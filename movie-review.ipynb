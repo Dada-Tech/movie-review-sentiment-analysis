{
 "cells": [
  {
   "cell_type": "markdown",
   "id": "bc97d6da",
   "metadata": {
    "id": "bc97d6da"
   },
   "source": [
    "\n",
    "# Custom Naive Bayes Classifier"
   ]
  },
  {
   "cell_type": "code",
   "execution_count": 49,
   "id": "a03450ac",
   "metadata": {
    "id": "a03450ac",
    "ExecuteTime": {
     "end_time": "2023-11-28T00:15:04.820398Z",
     "start_time": "2023-11-28T00:15:04.470455Z"
    }
   },
   "outputs": [
    {
     "name": "stderr",
     "output_type": "stream",
     "text": [
      "[nltk_data] Downloading package stopwords to\n",
      "[nltk_data]     /Users/daviddada/nltk_data...\n",
      "[nltk_data]   Package stopwords is already up-to-date!\n",
      "[nltk_data] Downloading package punkt to /Users/daviddada/nltk_data...\n",
      "[nltk_data]   Package punkt is already up-to-date!\n"
     ]
    }
   ],
   "source": [
    "## Importing the Libraries\n",
    "import numpy as np\n",
    "import pandas as pd\n",
    "import re\n",
    "import string\n",
    "from nltk.corpus import stopwords\n",
    "from nltk.stem import PorterStemmer\n",
    "from nltk.tokenize import word_tokenize\n",
    "from nltk.downloader import download as nltk_download\n",
    "nltk_download('stopwords')\n",
    "nltk_download('punkt')\n",
    "import warnings\n",
    "import seaborn as sns\n",
    "import matplotlib.pyplot as plt\n",
    "from sklearn.utils import resample\n",
    "from sklearn.model_selection import train_test_split\n",
    "from sklearn.metrics import confusion_matrix, ConfusionMatrixDisplay\n",
    "warnings.filterwarnings(\"ignore\")\n",
    "import json"
   ]
  },
  {
   "cell_type": "code",
   "execution_count": 50,
   "id": "3c9ffbf5",
   "metadata": {
    "id": "3c9ffbf5",
    "ExecuteTime": {
     "end_time": "2023-11-28T00:15:04.937238Z",
     "start_time": "2023-11-28T00:15:04.502248Z"
    }
   },
   "outputs": [],
   "source": [
    "# Peeking at the data\n",
    "\n",
    "# remove unimportant cols for nice displaying\n",
    "df = pd.read_csv(\"movie_reviews.csv\", sep = ',', encoding = 'latin-1', usecols = lambda col: col not in [\"Unnamed: 2\", \"Unnamed: 3\", \"Unnamed: 4\"])"
   ]
  },
  {
   "cell_type": "code",
   "execution_count": 51,
   "id": "f7fa8ac0",
   "metadata": {
    "colab": {
     "base_uri": "https://localhost:8080/",
     "height": 206
    },
    "id": "f7fa8ac0",
    "outputId": "69edaf28-1e2e-4ec7-9530-b30a2853ab9e",
    "ExecuteTime": {
     "end_time": "2023-11-28T00:15:04.937995Z",
     "start_time": "2023-11-28T00:15:04.793099Z"
    }
   },
   "outputs": [
    {
     "data": {
      "text/plain": "                                              review sentiment\n0  One of the other reviewers has mentioned that ...  positive\n1  A wonderful little production. <br /><br />The...  positive\n2  I thought this was a wonderful way to spend ti...  positive\n3  Petter Mattei's \"Love in the Time of Money\" is...  positive\n4  Probably my all-time favorite movie, a story o...  positive",
      "text/html": "<div>\n<style scoped>\n    .dataframe tbody tr th:only-of-type {\n        vertical-align: middle;\n    }\n\n    .dataframe tbody tr th {\n        vertical-align: top;\n    }\n\n    .dataframe thead th {\n        text-align: right;\n    }\n</style>\n<table border=\"1\" class=\"dataframe\">\n  <thead>\n    <tr style=\"text-align: right;\">\n      <th></th>\n      <th>review</th>\n      <th>sentiment</th>\n    </tr>\n  </thead>\n  <tbody>\n    <tr>\n      <th>0</th>\n      <td>One of the other reviewers has mentioned that ...</td>\n      <td>positive</td>\n    </tr>\n    <tr>\n      <th>1</th>\n      <td>A wonderful little production. &lt;br /&gt;&lt;br /&gt;The...</td>\n      <td>positive</td>\n    </tr>\n    <tr>\n      <th>2</th>\n      <td>I thought this was a wonderful way to spend ti...</td>\n      <td>positive</td>\n    </tr>\n    <tr>\n      <th>3</th>\n      <td>Petter Mattei's \"Love in the Time of Money\" is...</td>\n      <td>positive</td>\n    </tr>\n    <tr>\n      <th>4</th>\n      <td>Probably my all-time favorite movie, a story o...</td>\n      <td>positive</td>\n    </tr>\n  </tbody>\n</table>\n</div>"
     },
     "execution_count": 51,
     "metadata": {},
     "output_type": "execute_result"
    }
   ],
   "source": [
    "df.head()  # print head of data frame with help of head function"
   ]
  },
  {
   "cell_type": "markdown",
   "id": "1749da04",
   "metadata": {
    "id": "1749da04"
   },
   "source": [
    "## Data Exploration \n",
    "Count plot of the output categories: positive and negative"
   ]
  },
  {
   "cell_type": "code",
   "execution_count": 52,
   "outputs": [
    {
     "data": {
      "text/plain": "<Figure size 700x500 with 1 Axes>",
      "image/png": "[encoded data removed]"
     },
     "metadata": {},
     "output_type": "display_data"
    }
   ],
   "source": [
    "plt.figure(figsize = (7,5))\n",
    "sns.countplot(x='sentiment', hue='sentiment', data=df)\n",
    "plt.title(\"Positive Vs. Negative reviews count\", fontsize = 15)\n",
    "plt.show()"
   ],
   "metadata": {
    "collapsed": false,
    "ExecuteTime": {
     "end_time": "2023-11-28T00:15:05.056906Z",
     "start_time": "2023-11-28T00:15:04.800613Z"
    }
   },
   "id": "50be8fbc8fee838c"
  },
  {
   "cell_type": "markdown",
   "id": "9b8549f2",
   "metadata": {
    "id": "9b8549f2"
   },
   "source": [
    "## Upsampling the minority class:\n",
    "It is known that Naive bayes is not robust to class imbalance. It could be seen above that the data is little imbalanced. Therefore, class balancing can be done before giving it to the Naive Bayes model for prediction. "
   ]
  },
  {
   "cell_type": "code",
   "source": [
    "# positive    12474\n",
    "# negative    12225\n",
    "\n",
    "df_majority = df.loc[df['sentiment'] == 'positive']\n",
    "df_minority = df.loc[df['sentiment'] == 'negative']\n",
    "\n",
    "negative_upsample = resample(df_minority, replace = True, \n",
    "                        n_samples = df_majority.shape[0],\n",
    "                        random_state = 101)\n",
    "\n",
    "df_upsampled = pd.concat([df_majority, negative_upsample])  # concat two data frames i,e majority class data set and upsampled minority class data set\n",
    "df_upsampled = df_upsampled.sample(frac = 1)"
   ],
   "metadata": {
    "id": "yHJTAqrW7XMN",
    "ExecuteTime": {
     "end_time": "2023-11-28T00:15:05.072321Z",
     "start_time": "2023-11-28T00:15:04.984557Z"
    }
   },
   "id": "yHJTAqrW7XMN",
   "execution_count": 53,
   "outputs": []
  },
  {
   "cell_type": "code",
   "execution_count": 54,
   "id": "6a9329bb",
   "metadata": {
    "id": "6a9329bb",
    "ExecuteTime": {
     "end_time": "2023-11-28T00:15:05.085934Z",
     "start_time": "2023-11-28T00:15:04.999597Z"
    }
   },
   "outputs": [
    {
     "name": "stdout",
     "output_type": "stream",
     "text": [
      "(12474, 2)\n"
     ]
    }
   ],
   "source": [
    "## Checking the shape of data Just to ensure that upsampling was done successfully.\n",
    "upsampled_shape = df_upsampled.shape\n",
    "\n",
    "# print the shape of data set with the help of shape function having \"negative\" as class label\n",
    "print(negative_upsample.shape)"
   ]
  },
  {
   "cell_type": "code",
   "execution_count": 55,
   "id": "bdea8155",
   "metadata": {
    "colab": {
     "base_uri": "https://localhost:8080/"
    },
    "id": "bdea8155",
    "outputId": "c665c4b9-826e-4f4e-e30e-06e0935a0622",
    "ExecuteTime": {
     "end_time": "2023-11-28T00:15:05.086952Z",
     "start_time": "2023-11-28T00:15:05.040772Z"
    }
   },
   "outputs": [
    {
     "name": "stdout",
     "output_type": "stream",
     "text": [
      "(12474, 2)\n"
     ]
    }
   ],
   "source": [
    "## Ensure that the same number of data points are present for both 'positive' and 'negative' data\n",
    "counts = df_upsampled['sentiment'].value_counts()\n",
    "\n",
    "# print the shape of data set with the help of shape function having \"positive\" as class label\n",
    "print(df.loc[df['sentiment'] == 'positive'].shape)"
   ]
  },
  {
   "cell_type": "markdown",
   "source": [
    "# Dataset Splitting"
   ],
   "metadata": {
    "collapsed": false
   },
   "id": "a84f1960b710ac98"
  },
  {
   "cell_type": "code",
   "source": [
    "# Dataset Training and Test split \n",
    "\n",
    "## Considering 10000 positive and 10000 negative data points\n",
    "positive_data_points_train = df_upsampled.loc[df['sentiment'] == 'positive'].iloc[:10000]\n",
    "negative_data_points_train = df_upsampled.loc[df['sentiment'] == 'negative'].iloc[:10000]\n",
    "\n",
    "## Considering the remaining data points for test\n",
    "positive_data_points_test = df_upsampled.loc[df['sentiment'] == 'positive'].iloc[10000:]\n",
    "negative_data_points_test = df_upsampled.loc[df['sentiment'] == 'negative'].iloc[10000:]\n",
    "\n",
    "## Concatenate the training positive and negative reviews\n",
    "X_train = pd.concat([positive_data_points_train['review'], negative_data_points_train['review']])\n",
    "## Concatenating the training positive and negative outputs\n",
    "y_train = pd.concat([positive_data_points_train['sentiment'], negative_data_points_train['sentiment']])\n",
    "\n",
    "## Concatenating the test positive and negative reviews\n",
    "X_test = pd.concat([positive_data_points_test['review'], negative_data_points_test['review']])\n",
    "## Concatenating the test positive and negative outputs\n",
    "y_test = pd.concat([positive_data_points_test['sentiment'], negative_data_points_test['sentiment']])"
   ],
   "metadata": {
    "id": "NoW5z6SzAeP8",
    "ExecuteTime": {
     "end_time": "2023-11-28T00:15:05.096242Z",
     "start_time": "2023-11-28T00:15:05.047387Z"
    }
   },
   "execution_count": 56,
   "outputs": [],
   "id": "NoW5z6SzAeP8"
  },
  {
   "cell_type": "code",
   "execution_count": 57,
   "id": "6428047d",
   "metadata": {
    "colab": {
     "base_uri": "https://localhost:8080/"
    },
    "id": "6428047d",
    "outputId": "10d10601-0ce0-4688-c4d3-75fa386583fd",
    "ExecuteTime": {
     "end_time": "2023-11-28T00:15:05.217064Z",
     "start_time": "2023-11-28T00:15:05.073975Z"
    }
   },
   "outputs": [
    {
     "name": "stdout",
     "output_type": "stream",
     "text": [
      "sentiment\n",
      "positive    10000\n",
      "negative    10000\n",
      "Name: count, dtype: int64\n"
     ]
    }
   ],
   "source": [
    "## Total number of classes and their count\n",
    "print(y_train.value_counts())"
   ]
  },
  {
   "cell_type": "code",
   "execution_count": 58,
   "outputs": [
    {
     "name": "stdout",
     "output_type": "stream",
     "text": [
      "sentiment\n",
      "positive    2474\n",
      "negative    2474\n",
      "Name: count, dtype: int64\n"
     ]
    }
   ],
   "source": [
    "print(y_test.value_counts())"
   ],
   "metadata": {
    "collapsed": false,
    "ExecuteTime": {
     "end_time": "2023-11-28T00:15:05.218176Z",
     "start_time": "2023-11-28T00:15:05.079296Z"
    }
   },
   "id": "95dee9cfdef4b6"
  },
  {
   "cell_type": "markdown",
   "id": "6501699b",
   "metadata": {
    "id": "6501699b"
   },
   "source": [
    "## Pre-processing the Reviews:\n",
    "\n",
    "We know that a review contains links, punctuation, stopwords and many other words that don't give a lot of meaning for the Naive Bayes model for prediction. \n",
    "\n",
    "In the cell below, one must implement text-preprocessing and remove links, punctuations and stopwords. It is also important to lowercase the letters so that 'Admire' and 'admire' are not treated as different words. \n",
    "\n",
    "In addition to this, perform stemming operation so that similar words are reduced.  \n",
    "  \n",
    "### Summary\n",
    "* Removal of stopwords, punctuation\n",
    "* Removal of filler words\n",
    "* Text Normalization\n",
    "* Stemming\n",
    "* HTML Sanitation"
   ]
  },
  {
   "cell_type": "code",
   "execution_count": 59,
   "outputs": [],
   "source": [
    "# stemmer\n",
    "stemmer = PorterStemmer()"
   ],
   "metadata": {
    "collapsed": false,
    "ExecuteTime": {
     "end_time": "2023-11-28T00:15:05.282547Z",
     "start_time": "2023-11-28T00:15:05.085424Z"
    }
   },
   "id": "e3fe6bc8bc63a021"
  },
  {
   "cell_type": "markdown",
   "source": [
    "### Clean review function based on rules mentioned above"
   ],
   "metadata": {
    "collapsed": false
   },
   "id": "f4e60f74a153ad1d"
  },
  {
   "cell_type": "code",
   "source": [
    "def clean_review(review):\n",
    "    '''\n",
    "    Input:\n",
    "        review: a string containing a review.\n",
    "    Output:\n",
    "        review_cleaned: a processed review.\n",
    "    '''\n",
    "\n",
    "    cleaned_review = review\n",
    "\n",
    "    # remove links\n",
    "    cleaned_review = re.sub(r\"<br />\", \"\", cleaned_review)\n",
    "\n",
    "    # punctuation\n",
    "    cleaned_review = re.sub(f\"[{string.punctuation}]\", \"\", cleaned_review)\n",
    "\n",
    "    # lowercase\n",
    "    cleaned_review = cleaned_review.lower()\n",
    "\n",
    "    # tokenize\n",
    "    cleaned_review = word_tokenize(cleaned_review)\n",
    "\n",
    "    # stopwords\n",
    "    cleaned_review = [word for word in cleaned_review if word not in stopwords.words('english')]\n",
    "\n",
    "    # stemming\n",
    "    cleaned_review = [stemmer.stem(token) for token in cleaned_review]\n",
    "\n",
    "    # recombine tokens\n",
    "    cleaned_review = \" \".join(cleaned_review)\n",
    "\n",
    "    return cleaned_review"
   ],
   "metadata": {
    "id": "CirLN9-ddQ1r",
    "ExecuteTime": {
     "end_time": "2023-11-28T00:15:05.286107Z",
     "start_time": "2023-11-28T00:15:05.089919Z"
    }
   },
   "id": "CirLN9-ddQ1r",
   "execution_count": 60,
   "outputs": []
  },
  {
   "cell_type": "markdown",
   "id": "a7632fe5",
   "metadata": {
    "id": "a7632fe5"
   },
   "source": [
    "### Find Occurrence Helper Function:\n",
    "\n",
    "In this function, we find the total occurrence of a word giving information such as label, word and frequency dictionary.\n",
    "\n",
    "Note that this function is used later in the code when we are going to be predicting the output using Naive Bayes. "
   ]
  },
  {
   "cell_type": "code",
   "execution_count": 61,
   "id": "eb282b81",
   "metadata": {
    "id": "eb282b81",
    "ExecuteTime": {
     "end_time": "2023-11-28T00:15:05.296802Z",
     "start_time": "2023-11-28T00:15:05.097056Z"
    }
   },
   "outputs": [],
   "source": [
    "def find_occurrence(frequency, word, label):\n",
    "    '''\n",
    "    Params:\n",
    "        frequency: a dictionary with the frequency of each pair (or tuple)\n",
    "        word: the word to look up\n",
    "        label: the label corresponding to the word\n",
    "\n",
    "        { (word,label):num_occurrence }\n",
    "    Return:\n",
    "        n: the number of times the word with its corresponding label appears.\n",
    "    '''\n",
    "\n",
    "    n = frequency[(word, label)] if (word,label) in frequency else 0\n",
    "\n",
    "    return n\n",
    "\n",
    "# print(find_occurrence({ ('hello', 0) : 10 },'hello', 0))"
   ]
  },
  {
   "cell_type": "markdown",
   "id": "29a2249d",
   "metadata": {
    "id": "29a2249d"
   },
   "source": [
    "### Converting Categorical Data to Numerical Format:\n",
    "\n",
    "We have outputs as 'positive' or 'negative'. In the cell below, we convert it to a numerical format."
   ]
  },
  {
   "cell_type": "code",
   "execution_count": 62,
   "id": "bcdc2b2c",
   "metadata": {
    "id": "bcdc2b2c",
    "ExecuteTime": {
     "end_time": "2023-11-28T00:15:05.297095Z",
     "start_time": "2023-11-28T00:15:05.110594Z"
    }
   },
   "outputs": [],
   "source": [
    "## With the use of mapping function, we replace\n",
    "## the label in the form of string to an integer. \n",
    "\n",
    "output_map = {'positive': 0, 'negative': 1}\n",
    "y_train = y_train.map(output_map)\n",
    "y_test = y_test.map(output_map)"
   ]
  },
  {
   "cell_type": "code",
   "execution_count": 63,
   "id": "3dde0bbd",
   "metadata": {
    "colab": {
     "base_uri": "https://localhost:8080/"
    },
    "id": "3dde0bbd",
    "outputId": "223dfbc1-8efe-4183-b6d7-c9cb025cb285",
    "ExecuteTime": {
     "end_time": "2023-11-28T00:15:05.297607Z",
     "start_time": "2023-11-28T00:15:05.116551Z"
    }
   },
   "outputs": [
    {
     "data": {
      "text/plain": "sentiment\n0    10000\n1    10000\nName: count, dtype: int64"
     },
     "execution_count": 63,
     "metadata": {},
     "output_type": "execute_result"
    }
   ],
   "source": [
    "## Ensuring that there are equal number of classes on the training data. \n",
    "y_train.value_counts()"
   ]
  },
  {
   "cell_type": "code",
   "execution_count": 64,
   "id": "f2959b85",
   "metadata": {
    "colab": {
     "base_uri": "https://localhost:8080/",
     "height": 178
    },
    "id": "f2959b85",
    "outputId": "e514214b-cd57-43fc-875d-1821ddab63f8",
    "ExecuteTime": {
     "end_time": "2023-11-28T00:15:05.298074Z",
     "start_time": "2023-11-28T00:15:05.124628Z"
    }
   },
   "outputs": [
    {
     "data": {
      "text/plain": "\"This supernatural Peter Weir thriller is truly one of the most haunting and fascinating movies ever seen. Richard Chamberlain does his best performance here as the Australian lawyer who defends a group of young Aborigins accused of murder. As he gets closer on the case, he discovers more about the main defendant, Chris, and not least about himself. Chris tells him that he is a Mulkurul, which appear to be a race of supernatural beings that lived in Australia thousands of years ago. At the same time, extraordinary high rainfall seems to confirm the Aboriginal prophecy of the coming of the LAST WAVE, the one that will drown the world.<br /><br />The dream sequences and the supernatural effects enhance this movie and make it a spectacular experience. Olivia Hamnett and David Gulpilil are solid in the supporting roles, as well as the chap with the difficult name who plays Charlie, the old Aborigin who can turn into an owl. The climax and the ending don't disappoint, in contrast to many other supernatural thrillers who fall flat after a promising hour or so. However, this can not be called a pure thriller. It is a drama as well and talks about spirituality and spiritual identity in the modern world. A masterful work by Peter Weir, the master of visually stunning dramas.\""
     },
     "execution_count": 64,
     "metadata": {},
     "output_type": "execute_result"
    }
   ],
   "source": [
    "## Choosing a random review and taking a look at it.\n",
    "X_train.iloc[0]"
   ]
  },
  {
   "cell_type": "markdown",
   "id": "ed5e43c9",
   "metadata": {
    "id": "ed5e43c9"
   },
   "source": [
    "From the above cell output, it could be seen that there are a lot of words that don't add a lot of meaning to the text. \n",
    "\n",
    "Therefore, those words would be removed. It also reduces the computation time. \n",
    "\n",
    "Therefore, it is a good practice we are following."
   ]
  },
  {
   "cell_type": "code",
   "execution_count": 65,
   "id": "ad3937ea",
   "metadata": {
    "colab": {
     "base_uri": "https://localhost:8080/"
    },
    "id": "ad3937ea",
    "outputId": "68985efe-32cd-4c11-ed5b-2e1e1b297e73",
    "ExecuteTime": {
     "end_time": "2023-11-28T00:15:05.299749Z",
     "start_time": "2023-11-28T00:15:05.129565Z"
    }
   },
   "outputs": [
    {
     "name": "stdout",
     "output_type": "stream",
     "text": [
      "supernatur peter weir thriller truli one haunt fascin movi ever seen richard chamberlain best perform australian lawyer defend group young aborigin accus murder get closer case discov main defend chri least chri tell mulkurul appear race supernatur be live australia thousand year ago time extraordinari high rainfal seem confirm aborigin propheci come last wave one drown worldth dream sequenc supernatur effect enhanc movi make spectacular experi olivia hamnett david gulpilil solid support role well chap difficult name play charli old aborigin turn owl climax end dont disappoint contrast mani supernatur thriller fall flat promis hour howev call pure thriller drama well talk spiritu spiritu ident modern world master work peter weir master visual stun drama\n"
     ]
    }
   ],
   "source": [
    "custom_review = X_train.iloc[0]\n",
    "\n",
    "# print cleaned review\n",
    "print(clean_review(custom_review))"
   ]
  },
  {
   "cell_type": "markdown",
   "id": "3e6cc440",
   "metadata": {
    "id": "3e6cc440"
   },
   "source": [
    "We now use this function to pre-process the review and remove words that don't add a lot of meaning in our model. "
   ]
  },
  {
   "cell_type": "markdown",
   "id": "5a762960",
   "metadata": {
    "id": "5a762960"
   },
   "source": [
    "## Implementation\n",
    "\n",
    "It is now time to implement the count function for the reviews. \n",
    "\n",
    "In this function, we count the occurrence of words and get the probabilities \n",
    "for the words based on the training data. \n",
    "\n",
    "In other words, we get the probability of occurrence of a word, given that the output is 'positive'.\n",
    "\n",
    "Similarly, we also compute the probability of occurence of a word, given that the output is 'negative'.\n",
    "\n"
   ]
  },
  {
   "cell_type": "code",
   "execution_count": 66,
   "id": "5de61f77",
   "metadata": {
    "id": "5de61f77",
    "ExecuteTime": {
     "end_time": "2023-11-28T00:15:05.301051Z",
     "start_time": "2023-11-28T00:15:05.191333Z"
    }
   },
   "outputs": [],
   "source": [
    "def review_counter(output_occurrence, reviews, positive_or_negative):\n",
    "    '''\n",
    "    Params:\n",
    "        output_occurrence: a dictionary that will be used to map each pair to its frequency\n",
    "        reviews: a list of reviews\n",
    "        positive_or_negative: a list corresponding to the sentiment of each review (either 0 or 1)\n",
    "    Return:\n",
    "        output: a dictionary mapping each pair to its frequency\n",
    "    '''\n",
    "    ## Steps :\n",
    "    # define the key, which is the word and label tuple\n",
    "    # if the key exists in the dictionary, increment the count\n",
    "    # else, if the key is new, add it to the dictionary and set the count to 1\n",
    "    \n",
    "    for label, review in zip(positive_or_negative, reviews):\n",
    "      split_review = clean_review(review).split()\n",
    "      for word in split_review:\n",
    "        key = (word, label)\n",
    "        output_occurrence[key] = output_occurrence[key] + 1 if key in output_occurrence else 1\n",
    "    return output_occurrence"
   ]
  },
  {
   "cell_type": "markdown",
   "id": "18238223",
   "metadata": {
    "id": "18238223"
   },
   "source": [
    "### Testing with example reviews:"
   ]
  },
  {
   "cell_type": "code",
   "execution_count": 67,
   "id": "07a4c58a",
   "metadata": {
    "colab": {
     "base_uri": "https://localhost:8080/"
    },
    "id": "07a4c58a",
    "outputId": "dd9e148a-34a9-4cfe-9077-c5de33493d7a",
    "ExecuteTime": {
     "end_time": "2023-11-28T00:15:05.301810Z",
     "start_time": "2023-11-28T00:15:05.197998Z"
    }
   },
   "outputs": [
    {
     "data": {
      "text/plain": "{('got', 1): 1,\n ('bore', 1): 2,\n ('throught', 1): 1,\n ('moview', 1): 1,\n ('movi', 0): 2,\n ('fantast', 0): 1,\n ('watch', 1): 1,\n ('complet', 1): 1,\n ('wast', 1): 1,\n ('time', 1): 1,\n ('money', 1): 1,\n ('enjoy', 0): 1,\n ('fullest', 0): 1}"
     },
     "execution_count": 67,
     "metadata": {},
     "output_type": "execute_result"
    }
   ],
   "source": [
    "# Testing the function\n",
    "\n",
    "result = {}\n",
    "reviews = ['got bored throught the moview', 'The movie was fantastic', 'Will not watch it again', 'Was bored, it was a complete waste of time and money', 'Enjoyed the movie to the fullest']\n",
    "ys = [1, 0, 1, 1, 0]\n",
    "review_counter(result,reviews, ys)"
   ]
  },
  {
   "cell_type": "markdown",
   "id": "927f89bb",
   "metadata": {
    "id": "927f89bb"
   },
   "source": [
    "### Expected Output:\n",
    " {('bored', 1): 2, <br>\n",
    " ('complete', 1): 1, <br>\n",
    " ('enjoyed', 0): 1, <br>\n",
    " ('fantastic', 0): 1, <br>\n",
    " ('fullest', 0): 1, <br>\n",
    " ('got', 1): 1, <br>\n",
    " ('money', 1): 1, <br>\n",
    " ('movie', 0): 2, <br>\n",
    " ('moview', 1): 1, <br>\n",
    " ('throught', 1): 1, <br>\n",
    " ('time', 1): 1, <br>\n",
    " ('waste', 1): 1, <br>\n",
    " ('watch', 1): 1}"
   ]
  },
  {
   "cell_type": "markdown",
   "source": [
    "### Frequency Dictionary:\n",
    " Frequency dictionary of words is another tool we will use to understand how certain words are associated with negative reviews, and positive"
   ],
   "metadata": {
    "collapsed": false
   },
   "id": "6e0e96bb6397e1c"
  },
  {
   "cell_type": "code",
   "execution_count": 68,
   "id": "9bc62e13",
   "metadata": {
    "id": "9bc62e13",
    "ExecuteTime": {
     "end_time": "2023-11-28T00:24:32.188235Z",
     "start_time": "2023-11-28T00:15:05.211877Z"
    }
   },
   "outputs": [],
   "source": [
    "# Build the freqs dictionary for later uses\n",
    "\n",
    "freqs = review_counter({}, X_train, y_train)"
   ]
  },
  {
   "cell_type": "code",
   "execution_count": 69,
   "id": "0eddf420",
   "metadata": {
    "id": "0eddf420",
    "ExecuteTime": {
     "end_time": "2023-11-28T00:24:32.233139Z",
     "start_time": "2023-11-28T00:24:32.221734Z"
    }
   },
   "outputs": [
    {
     "data": {
      "text/plain": "{('supernatur', 0): 72,\n ('peter', 0): 381,\n ('weir', 0): 6,\n ('thriller', 0): 398,\n ('truli', 0): 802,\n ('one', 0): 10838,\n ('haunt', 0): 230,\n ('fascin', 0): 316,\n ('movi', 0): 17377,\n ('ever', 0): 2070,\n ('seen', 0): 2701,\n ('richard', 0): 344,\n ('chamberlain', 0): 16,\n ('best', 0): 3358,\n ('perform', 0): 2788,\n ('australian', 0): 130,\n ('lawyer', 0): 99,\n ('defend', 0): 71,\n ('group', 0): 482,\n ('young', 0): 1818,\n ('aborigin', 0): 10,\n ('accus', 0): 82,\n ('murder', 0): 869,\n ('get', 0): 5034,\n ('closer', 0): 108,\n ('case', 0): 613,\n ('discov', 0): 420,\n ('main', 0): 854,\n ('chri', 0): 152,\n ('least', 0): 833,\n ('tell', 0): 1240,\n ('mulkurul', 0): 2,\n ('appear', 0): 924,\n ('race', 0): 229,\n ('be', 0): 66,\n ('live', 0): 2037,\n ('australia', 0): 88,\n ('thousand', 0): 100,\n ('year', 0): 2900,\n ('ago', 0): 423,\n ('time', 0): 6138,\n ('extraordinari', 0): 127,\n ('high', 0): 719,\n ('rainfal', 0): 1,\n ('seem', 0): 2501,\n ('confirm', 0): 42,\n ('propheci', 0): 7,\n ('come', 0): 2678,\n ('last', 0): 1272,\n ('wave', 0): 125,\n ('drown', 0): 48,\n ('worldth', 0): 14,\n ('dream', 0): 493,\n ('sequenc', 0): 664,\n ('effect', 0): 1341,\n ('enhanc', 0): 89,\n ('make', 0): 5259,\n ('spectacular', 0): 127,\n ('experi', 0): 742,\n ('olivia', 0): 43,\n ('hamnett', 0): 1,\n ('david', 0): 481,\n ('gulpilil', 0): 2,\n ('solid', 0): 264,\n ('support', 0): 722,\n ('role', 0): 1919,\n ('well', 0): 4613,\n ('chap', 0): 9,\n ('difficult', 0): 321,\n ('name', 0): 979,\n ('play', 0): 3934,\n ('charli', 0): 188,\n ('old', 0): 1566,\n ('turn', 0): 1413,\n ('owl', 0): 27,\n ('climax', 0): 177,\n ('end', 0): 3568,\n ('dont', 0): 2646,\n ('disappoint', 0): 467,\n ('contrast', 0): 204,\n ('mani', 0): 3050,\n ('fall', 0): 733,\n ('flat', 0): 110,\n ('promis', 0): 172,\n ('hour', 0): 618,\n ('howev', 0): 1308,\n ('call', 0): 893,\n ('pure', 0): 326,\n ('drama', 0): 744,\n ('talk', 0): 681,\n ('spiritu', 0): 81,\n ('ident', 0): 166,\n ('modern', 0): 425,\n ('world', 0): 1868,\n ('master', 0): 412,\n ('work', 0): 2941,\n ('visual', 0): 560,\n ('stun', 0): 277,\n ('greatest', 0): 424,\n ('music', 0): 2102,\n ('video', 0): 560,\n ('artist', 0): 409,\n ('realli', 0): 4215,\n ('sent', 0): 181,\n ('go', 0): 3261,\n ('tri', 0): 1928,\n ('copi', 0): 331,\n ('way', 0): 3392,\n ('anoth', 0): 1572,\n ('sinc', 0): 1170,\n ('journey', 0): 261,\n ('hope', 0): 931,\n ('poor', 0): 294,\n ('turkish', 0): 39,\n ('famili', 0): 1479,\n ('odyssey', 0): 38,\n ('spiral', 0): 43,\n ('downward', 0): 8,\n ('despair', 0): 64,\n ('travel', 0): 261,\n ('switzerland', 0): 17,\n ('search', 0): 246,\n ('prosper', 0): 15,\n ('although', 0): 1032,\n ('oscar', 0): 443,\n ('win', 0): 390,\n ('film', 0): 19940,\n ('fairli', 0): 229,\n ('craft', 0): 159,\n ('lack', 0): 495,\n ('substanc', 0): 54,\n ('implaus', 0): 38,\n ('much', 0): 3700,\n ('17', 0): 60,\n ('run', 0): 888,\n ('bu', 0): 83,\n ('boat', 0): 108,\n ('van', 0): 148,\n ('etc', 0): 368,\n ('could', 0): 2394,\n ('better', 0): 1796,\n ('spent', 0): 139,\n ('left', 0): 711,\n ('complet', 0): 896,\n ('stori', 0): 5436,\n ('predict', 0): 244,\n ('conclus', 0): 155,\n ('especi', 0): 1199,\n ('awar', 0): 125,\n ('common', 0): 204,\n ('crime', 0): 385,\n ('traffick', 0): 14,\n ('illeg', 0): 47,\n ('immigr', 0): 60,\n ('worthwhil', 0): 61,\n ('reason', 0): 888,\n ('entertain', 0): 1203,\n ('watch', 0): 4928,\n ('overr', 0): 26,\n ('design', 0): 273,\n ('alpha', 0): 9,\n ('omega', 0): 4,\n ('major', 0): 480,\n ('issu', 0): 343,\n ('countri', 0): 513,\n ('us', 0): 1814,\n ('see', 0): 5835,\n ('relationship', 0): 679,\n ('univers', 0): 303,\n ('set', 0): 1604,\n ('befittingli', 0): 1,\n ('obviou', 0): 277,\n ('student', 0): 274,\n ('vs', 0): 119,\n ('teacher', 0): 153,\n ('present', 0): 682,\n ('add', 0): 475,\n ('valu', 0): 355,\n ('male', 0): 260,\n ('femal', 0): 318,\n ('white', 0): 512,\n ('black', 0): 846,\n ('individu', 0): 223,\n ('societi', 0): 342,\n ('import', 0): 545,\n ('direct', 0): 1385,\n ('relat', 0): 356,\n ('amaz', 0): 877,\n ('bilater', 0): 1,\n ('point', 0): 1314,\n ('view', 0): 1007,\n ('director', 0): 1691,\n ('gave', 0): 462,\n ('show', 0): 4277,\n ('campu', 0): 21,\n ('typic', 0): 411,\n ('injustic', 0): 29,\n ('side', 0): 614,\n ('suffer', 0): 270,\n ('attempt', 0): 501,\n ('either', 0): 494,\n ('right', 0): 1411,\n ('would', 0): 4216,\n ('say', 0): 2614,\n ('skin', 0): 84,\n ('head', 0): 660,\n ('shown', 0): 451,\n ('crueler', 0): 1,\n ('vindict', 0): 10,\n ('quit', 0): 1683,\n ('toward', 0): 383,\n ('also', 0): 4204,\n ('discuss', 0): 182,\n ('sex', 0): 498,\n ('rape', 0): 162,\n ('iron', 0): 182,\n ('bring', 0): 819,\n ('two', 0): 2779,\n ('togeth', 0): 961,\n ('lawrenc', 0): 50,\n ('fishburn', 0): 29,\n ('overthetop', 0): 77,\n ('sagaci', 0): 1,\n ('profesor', 0): 1,\n ('phipp', 0): 4,\n ('crumbl', 0): 20,\n ('idea', 0): 738,\n ('favort', 0): 1,\n ('instead', 0): 550,\n ('parallel', 0): 78,\n ('lazi', 0): 39,\n ('downtrodden', 0): 9,\n ('industri', 0): 190,\n ('posit', 0): 262,\n ('star', 0): 1609,\n ('omar', 0): 19,\n ('epp', 0): 10,\n ('ice', 0): 102,\n ('cube', 0): 25,\n ('jennif', 0): 117,\n ('connelli', 0): 17,\n ('michael', 0): 538,\n ('rapaport', 0): 5,\n ('give', 0): 2343,\n ('excel', 0): 1464,\n ('portray', 0): 959,\n ('confus', 0): 286,\n ('youth', 0): 171,\n ('misplac', 0): 7,\n ('anger', 0): 102,\n ('look', 0): 3165,\n ('accept', 0): 385,\n ('tyra', 0): 10,\n ('bank', 0): 112,\n ('debut', 0): 149,\n ('prove', 0): 423,\n ('supermodel', 0): 3,\n ('acthigh', 0): 1,\n ('learn', 0): 666,\n ('colleg', 0): 167,\n ('class', 0): 339,\n ('piec', 0): 679,\n ('paper', 0): 73,\n ('fact', 0): 1337,\n ('almost', 0): 1198,\n ('satir', 0): 162,\n ('interact', 0): 158,\n ('rather', 0): 1047,\n ('dri', 0): 73,\n ('book', 0): 950,\n ('real', 0): 2003,\n ('educ', 0): 120,\n ('lifelearn', 0): 1,\n ('process', 0): 181,\n ('textual', 0): 3,\n ('think', 0): 3358,\n ('youll', 0): 573,\n ('find', 0): 2359,\n ('higher', 0): 112,\n ('apropo', 0): 4,\n ('even', 0): 3776,\n ('life', 0): 2949,\n ('gener', 0): 739,\n ('810', 0): 123,\n ('enjoy', 0): 2102,\n ('squir', 0): 16,\n ('trelan', 0): 7,\n ('jerk', 0): 54,\n ('around', 0): 1272,\n ('crew', 0): 246,\n ('episod', 0): 1077,\n ('though', 0): 1777,\n ('whole', 0): 1028,\n ('thing', 0): 2712,\n ('littl', 0): 2619,\n ('long', 0): 1337,\n ('sure', 0): 1127,\n ('histrion', 0): 13,\n ('kind', 0): 1079,\n ('funni', 0): 1548,\n ('pretti', 0): 1173,\n ('good', 0): 5854,\n ('wrap', 0): 93,\n ('problem', 0): 772,\n ('full', 0): 683,\n ('bravado', 0): 9,\n ('fun', 0): 1240,\n ('vanish', 0): 34,\n ('becam', 0): 276,\n ('nasti', 0): 115,\n ('mood', 0): 217,\n ('killergo', 0): 1,\n ('obnoxi', 0): 32,\n ('affabl', 0): 10,\n ('host', 0): 104,\n ('guy', 0): 1400,\n ('sentenc', 0): 55,\n ('kirk', 0): 41,\n ('death', 0): 896,\n ('despit', 0): 537,\n ('worth', 0): 1002,\n ('diehard', 0): 22,\n ('trekki', 0): 4,\n ('mustse', 0): 86,\n ('other', 0): 762,\n ('mill', 0): 59,\n ('psychopath', 0): 38,\n ('1973', 0): 32,\n ('trip', 0): 230,\n ('memori', 0): 315,\n ('lane', 0): 101,\n ('saw', 0): 1364,\n ('tv', 0): 1095,\n ('children', 0): 647,\n ('mr', 0): 734,\n ('rabbey', 0): 4,\n ('aveng', 0): 40,\n ('brutal', 0): 239,\n ('abus', 0): 164,\n ('parent', 0): 400,\n ('inflict', 0): 20,\n ('upon', 0): 375,\n ('kiddi', 0): 14,\n ('fan', 0): 1376,\n ('like', 0): 7974,\n ('he', 0): 1046,\n ('alway', 0): 1635,\n ('verg', 0): 24,\n ('lose', 0): 324,\n ('final', 0): 1310,\n ('crack', 0): 102,\n ('decid', 0): 610,\n ('hunt', 0): 140,\n ('bad', 0): 1424,\n ('caus', 0): 426,\n ('prowl', 0): 6,\n ('happen', 0): 1288,\n ('next', 0): 614,\n ('priceless', 0): 47,\n ('chorewhat', 0): 1,\n ('notabl', 0): 131,\n ('joe', 0): 302,\n ('maniac', 0): 44,\n ('spinel', 0): 4,\n ('made', 0): 2838,\n ('short', 0): 896,\n ('promo', 0): 11,\n ('reel', 0): 46,\n ('base', 0): 624,\n ('unfinish', 0): 15,\n ('robbi', 0): 11,\n ('clownwho', 0): 1,\n ('pudgi', 0): 4,\n ('shape', 0): 109,\n ('edward', 0): 108,\n ('jame', 0): 504,\n ('olmo', 0): 2,\n ('child', 0): 480,\n ('sadli', 0): 151,\n ('never', 0): 2508,\n ('fund', 0): 33,\n ('project', 0): 218,\n ('titl', 0): 585,\n ('ii', 0): 142,\n ('mister', 0): 9,\n ('similar', 0): 461,\n ('close', 0): 653,\n ('comfort', 0): 136,\n ('violent', 0): 239,\n ('pg', 0): 27,\n ('movierecommend', 0): 2,\n ('offend', 0): 77,\n ('simpli', 0): 700,\n ('humor', 0): 672,\n ('unfortun', 0): 385,\n ('mass', 0): 83,\n ('overli', 0): 70,\n ('religi', 0): 130,\n ('dull', 0): 111,\n ('polit', 0): 457,\n ('correct', 0): 124,\n ('peopl', 0): 3506,\n ('america', 0): 321,\n ('put', 0): 1216,\n ('moral', 0): 288,\n ('asid', 0): 171,\n ('fg', 0): 3,\n ('hilari', 0): 577,\n ('mind', 0): 869,\n ('open', 0): 877,\n ('realiti', 0): 507,\n ('today', 0): 685,\n ('whoever', 0): 46,\n ('said', 0): 805,\n ('immatur', 0): 23,\n ('audienc', 0): 1032,\n ('mistaken', 0): 50,\n ('refer', 0): 255,\n ('1080', 0): 1,\n ('couldnt', 0): 368,\n ('imagin', 0): 563,\n ('kid', 0): 1049,\n ('definit', 0): 922,\n ('matur', 0): 146,\n ('openmind', 0): 13,\n ('afraid', 0): 130,\n ('critic', 0): 523,\n ('american', 0): 1152,\n ('hat', 0): 109,\n ('seth', 0): 21,\n ('abl', 0): 613,\n ('unusu', 0): 208,\n ('revisionist', 0): 7,\n ('western', 0): 458,\n ('slow', 0): 356,\n ('start', 0): 1392,\n ('build', 0): 355,\n ('â\\x96', 0): 450,\n ('scarc', 0): 16,\n ('dialogu', 0): 483,\n ('subtitl', 0): 151,\n ('increasingli', 0): 64,\n ('involv', 0): 765,\n ('intens', 0): 318,\n ('existenti', 0): 25,\n ('portrait', 0): 91,\n ('harsh', 0): 100,\n ('environ', 0): 107,\n ('desert', 0): 150,\n ('growth', 0): 28,\n ('lead', 0): 1137,\n ('charact', 0): 5522,\n ('wait', 0): 482,\n ('strong', 0): 571,\n ('central', 0): 185,\n ('cast', 0): 1831,\n ('sens', 0): 873,\n ('desper', 0): 205,\n ('struggl', 0): 314,\n ('ownership', 0): 6,\n ('allimport', 0): 2,\n ('hors', 0): 182,\n ('interest', 0): 1879,\n ('british', 0): 401,\n ('smile', 0): 194,\n ('impress', 0): 687,\n ('larg', 0): 345,\n ('ignor', 0): 213,\n ('contemporari', 0): 138,\n ('usual', 0): 793,\n ('alchemi', 0): 2,\n ('hidden', 0): 138,\n ('gold', 0): 112,\n ('shine', 0): 196,\n ('inevit', 0): 120,\n ('must', 0): 1322,\n ('note', 0): 424,\n ('jar', 0): 46,\n ('revision', 0): 2,\n ('carri', 0): 429,\n ('far', 0): 984,\n ('sam', 0): 204,\n ('waterston', 0): 14,\n ('indian', 0): 246,\n ('grant', 0): 146,\n ('part', 0): 2063,\n ('emot', 0): 923,\n ('actor', 0): 2408,\n ('found', 0): 1045,\n ('job', 0): 1147,\n ('scene', 0): 4018,\n ('carolin', 0): 25,\n ('langrish', 0): 2,\n ('intimaci', 0): 16,\n ('nice', 0): 1005,\n ('immens', 0): 85,\n ('landscap', 0): 112,\n ('themforget', 0): 1,\n ('big', 0): 1385,\n ('bankrupt', 0): 7,\n ('hollywood', 0): 765,\n ('version', 0): 932,\n ('past', 0): 562,\n ('men', 0): 844,\n ('chin', 0): 13,\n ('swirl', 0): 6,\n ('primev', 0): 2,\n ('protagonist', 0): 190,\n ('strip', 0): 72,\n ('trap', 0): 185,\n ('ordinari', 0): 144,\n ('understand', 0): 904,\n ('fight', 0): 767,\n ('man', 0): 2438,\n ('third', 0): 261,\n ('buy', 0): 392,\n ('oliv', 0): 101,\n ('talenti', 0): 2,\n ('rais', 0): 206,\n ('carol', 0): 80,\n ('reedi', 0): 2,\n ('know', 0): 2834,\n ('second', 0): 820,\n ('unit', 0): 167,\n ('still', 0): 2577,\n ('deal', 0): 645,\n ('orson', 0): 39,\n ('reed', 0): 55,\n ('suppos', 0): 355,\n ('qualiti', 0): 530,\n ('outit', 0): 6,\n ('nanci', 0): 86,\n ('avoid', 0): 177,\n ('spoiler', 0): 222,\n ('everyon', 0): 919,\n ('first', 0): 3429,\n ('sometim', 0): 613,\n ('line', 0): 1086,\n ('need', 0): 1218,\n ('typeencourag', 0): 1,\n ('type', 0): 564,\n ('encouragedi', 0): 1,\n ('count', 0): 174,\n ('10th', 0): 5,\n ('forgiv', 0): 87,\n ('franklin', 0): 26,\n ('act', 0): 2656,\n ('fantasticespeci', 0): 1,\n ('mari', 0): 254,\n ('blackwel', 0): 5,\n ('remark', 0): 287,\n ('peggi', 0): 32,\n ('lester', 0): 16,\n ('brought', 0): 361,\n ('incred', 0): 479,\n ('skill', 0): 220,\n ('nextdoor', 0): 3,\n ('neighbor', 0): 99,\n ('robertson', 0): 28,\n ('dean', 0): 91,\n ('father', 0): 948,\n ('true', 0): 1099,\n ('profession', 0): 180,\n ('manag', 0): 601,\n ('pull', 0): 391,\n ('intim', 0): 47,\n ('rare', 0): 421,\n ('grace', 0): 190,\n ('entir', 0): 672,\n ('cinematographi', 0): 440,\n ('beauti', 0): 1920,\n ('done', 0): 1239,\n ('throughout', 0): 587,\n ('offer', 0): 459,\n ('slight', 0): 62,\n ('weak', 0): 224,\n ('drawn', 0): 147,\n ('repetit', 0): 30,\n ('bit', 0): 1453,\n ('focus', 0): 225,\n ('wrong', 0): 519,\n ('forgivenessbut', 0): 1,\n ('spite', 0): 86,\n ('flaw', 0): 292,\n ('applaus', 0): 20,\n ('shockingli', 0): 14,\n ('underr', 0): 138,\n ('imdb', 0): 216,\n ('isnt', 0): 1038,\n ('shawshank', 0): 12,\n ('danc', 0): 623,\n ('competit', 0): 77,\n ('person', 0): 1417,\n ('want', 0): 2292,\n ('spend', 0): 244,\n ('half', 0): 540,\n ('sort', 0): 555,\n ('8', 0): 235,\n ('mile', 0): 136,\n ('step', 0): 258,\n ('dancer', 0): 96,\n ('itjudg', 0): 1,\n ('rate', 0): 672,\n ('guess', 0): 453,\n ('approach', 0): 272,\n ('top', 0): 737,\n ('250', 0): 16,\n ('vote', 0): 133,\n ('bomb', 0): 122,\n ('1s', 0): 3,\n ('arent', 0): 284,\n ('mob', 0): 79,\n ('special', 0): 794,\n ('includ', 0): 830,\n ('nonwhit', 0): 5,\n ('nonstraight', 0): 1,\n ('charactersit', 0): 5,\n ('mostli', 0): 356,\n ('toronto', 0): 29,\n ('cue', 0): 23,\n ('subtl', 0): 260,\n ('may', 0): 1534,\n ('border', 0): 73,\n ('citi', 0): 664,\n ('detroiti', 0): 1,\n ('convinc', 0): 362,\n ('50000', 0): 5,\n ('easi', 0): 397,\n ('eyesi', 0): 3,\n ('agre', 0): 306,\n ('suck', 0): 128,\n ('rememb', 0): 889,\n ('anyon', 0): 1013,\n ('word', 0): 669,\n ('foreign', 0): 162,\n ('languagether', 0): 1,\n ('lot', 0): 1942,\n ('hate', 0): 436,\n ('let', 0): 949,\n ('honest', 0): 207,\n ('1', 0): 277,\n ('mean', 0): 902,\n ('assum', 0): 131,\n ('express', 0): 353,\n ('that', 0): 1157,\n ('sad', 0): 431,\n ('rock', 0): 454,\n ('remak', 0): 205,\n ('warren', 0): 43,\n ('beatti', 0): 41,\n ('heaven', 0): 158,\n ('1941', 0): 17,\n ('jordan', 0): 29,\n ('comedi', 0): 1528,\n ('die', 0): 734,\n ('realiz', 0): 540,\n ('adventur', 0): 417,\n ('new', 0): 1886,\n ('albeit', 0): 83,\n ('temporari', 0): 18,\n ('bodi', 0): 455,\n ('backup', 0): 7,\n ('quarterback', 0): 3,\n ('thenlo', 0): 1,\n ('angel', 0): 195,\n ('ram', 0): 17,\n ('hipper', 0): 1,\n ('decidedli', 0): 23,\n ('lowtal', 0): 1,\n ('standup', 0): 35,\n ('comedianit', 0): 1,\n ('razorsharp', 0): 2,\n ('comedian', 0): 99,\n ('tom', 0): 317,\n ('hank', 0): 102,\n ('lanc', 0): 30,\n ('barton', 0): 12,\n ('legendari', 0): 94,\n ('apollo', 0): 10,\n ('theater', 0): 364,\n ('nonamateur', 0): 1,\n ('night', 0): 892,\n ('everi', 0): 1566,\n ('materi', 0): 268,\n ('boo', 0): 8,\n ('stage', 0): 416,\n ('lustili', 0): 1,\n ('nicknam', 0): 21,\n ('becom', 0): 1343,\n ('booie', 0): 1,\n ('joke', 0): 391,\n ('lame', 0): 58,\n ('deliveri', 0): 69,\n ('pain', 0): 279,\n ('everyth', 0): 955,\n ('isntlanc', 0): 1,\n ('bike', 0): 33,\n ('messeng', 0): 8,\n ('ride', 0): 279,\n ('street', 0): 427,\n ('bam', 0): 35,\n ('hit', 0): 560,\n ('truck', 0): 68,\n ('ok', 0): 195,\n ('mayb', 0): 744,\n ('taken', 0): 426,\n ('tenth', 0): 5,\n ('earli', 0): 687,\n ('slightli', 0): 226,\n ('incompet', 0): 22,\n ('eugen', 0): 50,\n ('levi', 0): 12,\n ('hey', 0): 125,\n ('anyway', 0): 331,\n ('dice', 0): 9,\n ('due', 0): 394,\n ('2044', 0): 1,\n ('king', 0): 411,\n ('chazz', 0): 2,\n ('palminteri', 0): 1,\n ('reluctantli', 0): 23,\n ('notquitedead', 0): 1,\n ('troubl', 0): 342,\n ('greedi', 0): 35,\n ('fella', 0): 11,\n ('wellington', 0): 3,\n ('own', 0): 84,\n ('15th', 0): 6,\n ('richest', 0): 8,\n ('luck', 0): 85,\n ('cours', 0): 1112,\n ('affluent', 0): 6,\n ('gorgeou', 0): 172,\n ('hospit', 0): 190,\n ('worker', 0): 102,\n ('regina', 0): 14,\n ('tough', 0): 198,\n ('given', 0): 662,\n ('your', 0): 631,\n ('dumpi', 0): 1,\n ('wors', 0): 183,\n ('she', 0): 542,\n ('money', 0): 507,\n ('shot', 0): 1044,\n ('opinion', 0): 450,\n ('admir', 0): 223,\n ('there', 0): 922,\n ('divers', 0): 70,\n ('might', 0): 977,\n ('stop', 0): 530,\n ('incorpor', 0): 45,\n ('routin', 0): 95,\n ('script', 0): 792,\n ('drive', 0): 323,\n ('demeanor', 0): 20,\n ('passion', 0): 248,\n ('fuel', 0): 23,\n ('clearli', 0): 289,\n ('bent', 0): 30,\n ('compel', 0): 221,\n ('tara', 0): 14,\n ('fitzgerald', 0): 15,\n ('utterli', 0): 122,\n ('believ', 0): 1433,\n ('injur', 0): 31,\n ('graham', 0): 52,\n ('harden', 0): 26,\n ('sharp', 0): 114,\n ('strongwil', 0): 6,\n ('yet', 0): 1130,\n ('immun', 0): 13,\n ('attent', 0): 412,\n ('markham', 0): 4,\n ('mischiev', 0): 22,\n ('glanc', 0): 36,\n ('flare', 0): 22,\n ('temper', 0): 25,\n ('flicker', 0): 17,\n ('discern', 0): 21,\n ('eye', 0): 881,\n ('facial', 0): 81,\n ('tobi', 0): 18,\n ('stephen', 0): 128,\n ('forc', 0): 555,\n ('restor', 0): 87,\n ('helen', 0): 59,\n ('spirit', 0): 321,\n ('grave', 0): 67,\n ('huntingdon', 0): 6,\n ('perfect', 0): 1012,\n ('unreform', 0): 1,\n ('rogu', 0): 16,\n ('undeni', 0): 42,\n ('human', 0): 1115,\n ('digniti', 0): 51,\n ('refus', 0): 162,\n ('hypocrit', 0): 20,\n ('fail', 0): 276,\n ('ruin', 0): 124,\n ('save', 0): 440,\n ('soul', 0): 281,\n ('leav', 0): 889,\n ('take', 0): 2736,\n ('unheard', 0): 8,\n ('ofi', 0): 2,\n ('triumph', 0): 73,\n ('faith', 0): 230,\n ('misguid', 0): 12,\n ('sin', 0): 77,\n ('constanc', 0): 10,\n ('reward', 0): 102,\n ('unyield', 0): 3,\n ('strongli', 0): 126,\n ('tenant', 0): 48,\n ('outdat', 0): 20,\n ('standard', 0): 245,\n ('imbu', 0): 20,\n ('integr', 0): 78,\n ('convict', 0): 94,\n ('impact', 0): 185,\n ('wuther', 0): 3,\n ('height', 0): 56,\n ('jane', 0): 240,\n ('eyr', 0): 26,\n ('adapt', 0): 359,\n ('novel', 0): 474,\n ('justic', 0): 191,\n ('highli', 0): 629,\n ('recommend', 0): 1159,\n ('stanwyck', 0): 114,\n ('morgan', 0): 106,\n ('perfectli', 0): 390,\n ('equival', 0): 30,\n ('dicken', 0): 39,\n ('christma', 0): 167,\n ('sensibl', 0): 69,\n ('success', 0): 609,\n ('depend', 0): 125,\n ('sydney', 0): 32,\n ('greenstreet', 0): 23,\n ('alexand', 0): 76,\n ('yardley', 0): 7,\n ('scroog', 0): 21,\n ('exerc', 0): 2,\n ('control', 0): 298,\n ('employe', 0): 41,\n ('overtak', 0): 8,\n ('walk', 0): 373,\n ('park', 0): 243,\n ('great', 0): 5004,\n ('falstaff', 0): 1,\n ('lunt', 0): 1,\n ('compani', 0): 229,\n ('enter', 0): 179,\n ('five', 0): 258,\n ('earlier', 0): 258,\n ('age', 0): 741,\n ('61', 0): 6,\n ('featur', 0): 789,\n ('classic', 0): 1086,\n ('john', 0): 997,\n ('huston', 0): 38,\n ('maltes', 0): 6,\n ('falcon', 0): 26,\n ('cuddl', 0): 7,\n ('sakal', 0): 9,\n ('probabl', 0): 1094,\n ('tradit', 0): 277,\n ('embodi', 0): 29,\n ('middl', 0): 270,\n ('european', 0): 129,\n ('gemutlicheit', 0): 1,\n ('attract', 0): 307,\n ('use', 0): 2016,\n ('eyepleas', 0): 2,\n ('gem', 0): 254,\n ('easili', 0): 366,\n ('superior', 0): 133,\n ('translat', 0): 110,\n ('green', 0): 195,\n ('wrote', 0): 172,\n ('instanc', 0): 118,\n ('quiet', 0): 158,\n ('grim', 0): 81,\n ('humour', 0): 209,\n ('break', 0): 388,\n ('boyer', 0): 25,\n ('lorr', 0): 24,\n ('murderedchild', 0): 1,\n ('obsess', 0): 206,\n ('plot', 0): 1972,\n ('deviat', 0): 17,\n ('tend', 0): 186,\n ('ludicroushowev', 0): 1,\n ('suggest', 0): 288,\n ('stay', 0): 431,\n ('un', 0): 25,\n ('minor', 0): 221,\n ('stock', 0): 89,\n ('hand', 0): 728,\n ('anythingit', 0): 2,\n ('dread', 0): 63,\n ('shame', 0): 268,\n ('avail', 0): 260,\n ('dvd', 0): 1206,\n ('harvey', 0): 40,\n ('light', 0): 571,\n ('candl', 0): 22,\n ('anchor', 0): 46,\n ('brilliant', 0): 721,\n ('timothi', 0): 53,\n ('spallwhil', 0): 1,\n ('titular', 0): 17,\n ('moros', 0): 6,\n ('tight', 0): 100,\n ('catharsi', 0): 8,\n ('deep', 0): 339,\n ('secret', 0): 303,\n ('unveil', 0): 6,\n ('surpris', 0): 968,\n ('spall', 0): 5,\n ('rang', 0): 150,\n ('feel', 0): 2271,\n ('convey', 0): 179,\n ('move', 0): 1131,\n ('mike', 0): 109,\n ('leigh', 0): 29,\n ('repertorywhil', 0): 1,\n ('expect', 0): 1067,\n ('bore', 0): 383,\n ('school', 0): 620,\n ('comic', 0): 508,\n ('purpos', 0): 199,\n ('simpson', 0): 43,\n ('situat', 0): 546,\n ('visit', 0): 210,\n ('salisburi', 0): 1,\n ('cathedr', 0): 3,\n ('rhidian', 0): 1,\n ('brook', 0): 124,\n ('wellcontain', 0): 1,\n ('structur', 0): 125,\n ('dramat', 0): 305,\n ('formal', 0): 35,\n ('divid', 0): 59,\n ('actswer', 0): 1,\n ('introduc', 0): 214,\n ('urban', 0): 105,\n ('racial', 0): 50,\n ('uniform', 0): 41,\n ('privat', 0): 126,\n ('public', 0): 260,\n ('gather', 0): 66,\n ('rap', 0): 51,\n ('seriou', 0): 396,\n ('south', 0): 247,\n ('asian', 0): 80,\n ('muslim', 0): 36,\n ('bulli', 0): 82,\n ('girl', 0): 1348,\n ('natur', 0): 685,\n ('recogn', 0): 182,\n ('shameless', 0): 11,\n ('exuber', 0): 26,\n ('repres', 0): 184,\n ('junior', 0): 35,\n ('social', 0): 271,\n ('pressur', 0): 69,\n ('celia', 0): 4,\n ('imri', 0): 1,\n ('warmth', 0): 51,\n ('supervisor', 0): 12,\n ('martinet', 0): 1,\n ('playa', 0): 2,\n ('transform', 0): 138,\n ('crisi', 0): 74,\n ('remain', 0): 409,\n ('amusingli', 0): 9,\n ('oblivi', 0): 19,\n ('ben', 0): 224,\n ('coupl', 0): 720,\n ('spoon', 0): 15,\n ('fed', 0): 35,\n ('didact', 0): 9,\n ('lesson', 0): 200,\n ('toler', 0): 45,\n ('god', 0): 342,\n ('bbc', 0): 100,\n ('england', 0): 139,\n ('easter', 0): 7,\n ('christmasnathali', 0): 1,\n ('press', 0): 70,\n ('summer', 0): 182,\n ('love', 0): 4774,\n ('key', 0): 187,\n ('redempt', 0): 76,\n ('movieoftheweek', 0): 3,\n ('preach', 0): 34,\n ('touch', 0): 684,\n ('reach', 0): 242,\n ...}"
     },
     "execution_count": 69,
     "metadata": {},
     "output_type": "execute_result"
    }
   ],
   "source": [
    "## Run this cell to get an idea about the corpus of words and their occurrence along with labels. \n",
    "## In this, we are computing the frequency of occurrence of word given that a review is 'positive'.\n",
    "## Similarly, we also compute the frequency of occurrence of word given that a review is 'negative'.\n",
    "freqs"
   ]
  },
  {
   "cell_type": "markdown",
   "id": "759c24bc",
   "metadata": {
    "id": "759c24bc"
   },
   "source": [
    "## Training the Naive Bayes Model:\n",
    "\n",
    "Calculating the log likelihood and log prior values, as these are important for testing.\n",
    "\n",
    "Word frequency count using the above functions is used to compute the log likelihood.\n",
    "\n",
    "We will need the logprior and loglikelihood output by the model from this function. "
   ]
  },
  {
   "cell_type": "code",
   "execution_count": 70,
   "id": "a7f280e3",
   "metadata": {
    "id": "a7f280e3",
    "ExecuteTime": {
     "end_time": "2023-11-28T00:24:32.239257Z",
     "start_time": "2023-11-28T00:24:32.235635Z"
    }
   },
   "outputs": [],
   "source": [
    "def train_naive_bayes(freqs, train_x, train_y):\n",
    "    '''\n",
    "    Input:\n",
    "        freqs: dictionary from (word, label) to how often the word appears\n",
    "        train_x: a list of reviews\n",
    "        train_y: a list of labels corresponding to the reviews (0,1)\n",
    "    Output:\n",
    "        logprior: the log prior. (equation 3 above)\n",
    "        loglikelihood: the log likelihood of you Naive bayes equation. (equation 6 above)\n",
    "    '''\n",
    "\n",
    "    loglikelihood = {}\n",
    "    logprior = 0\n",
    "\n",
    "    # calculate V, the number of unique words in the vocabulary\n",
    "    vocab = set([word for word, label in freqs.keys()])\n",
    "    V = len(vocab)\n",
    "\n",
    "    # calculate num_pos and num_neg - the total number of positive and negative words for all documents\n",
    "    num_pos = num_neg = 0\n",
    "    for pair in freqs.keys():\n",
    "        # if the label is positive (equals zero)\n",
    "        if pair[1] == 0:\n",
    "            # Increment the number of positive words by the count for this (word, label) pair\n",
    "            num_pos += freqs[pair]\n",
    "\n",
    "        # else, the label is negative\n",
    "        else:\n",
    "            # Increment the number of negative words by the count for this (word,label) pair\n",
    "            num_neg += freqs[pair]\n",
    "\n",
    "    # Calculate num_doc, the number of documents\n",
    "    num_doc = len(train_x)\n",
    "\n",
    "    # Calculate D_pos, the number of positive documents\n",
    "    pos_num_docs = (train_y == 1).sum() + 1\n",
    "\n",
    "    # Calculate D_neg, the number of negative documents \n",
    "    neg_num_docs = (train_y == 0).sum() + 1\n",
    "\n",
    "    # Calculate logprior\n",
    "    logp = { 1: np.log(pos_num_docs/num_doc), 0: np.log(neg_num_docs/num_doc) }\n",
    "    # scalar log prior since binary class\n",
    "    logprior = np.log(pos_num_docs/neg_num_docs)\n",
    "\n",
    "    # For each word in the vocabulary...\n",
    "    for word in vocab:\n",
    "        # get the positive and negative frequency of the word\n",
    "        freq_pos = (freqs[(word, 1)] if (word, 1) in freqs else 0) + 1\n",
    "        freq_neg = (freqs[(word, 0)] if (word, 0) in freqs else 0) + 1\n",
    "        freq_total = freq_pos + freq_neg\n",
    "\n",
    "        # calculate the probability that each word is positive, and negative\n",
    "        p_w_pos = freq_pos/freq_total\n",
    "        p_w_neg = freq_neg/freq_total\n",
    "\n",
    "        # calculate the log likelihood of the word\n",
    "        loglikelihood[word] = [np.log(p_w_pos), np.log(p_w_neg)]\n",
    "\n",
    "    return logprior, loglikelihood"
   ]
  },
  {
   "cell_type": "code",
   "execution_count": 71,
   "id": "1561d892",
   "metadata": {
    "id": "1561d892",
    "ExecuteTime": {
     "end_time": "2023-11-28T00:24:33.341957Z",
     "start_time": "2023-11-28T00:24:32.300423Z"
    }
   },
   "outputs": [
    {
     "name": "stdout",
     "output_type": "stream",
     "text": [
      "0.0\n",
      "89057\n"
     ]
    }
   ],
   "source": [
    "logprior, loglikelihood = train_naive_bayes(freqs, X_train, y_train)\n",
    "print(logprior)\n",
    "print(len(loglikelihood))"
   ]
  },
  {
   "cell_type": "markdown",
   "id": "19d9c882",
   "metadata": {
    "id": "19d9c882"
   },
   "source": [
    "### Expected Output \n",
    "\n",
    "0.0 <br>\n",
    "91425"
   ]
  },
  {
   "cell_type": "markdown",
   "id": "78b51303",
   "metadata": {
    "id": "78b51303"
   },
   "source": [
    "## Implementing Naive Bayes Predict Function:"
   ]
  },
  {
   "cell_type": "code",
   "execution_count": 72,
   "id": "b692c2f9",
   "metadata": {
    "id": "b692c2f9",
    "ExecuteTime": {
     "end_time": "2023-11-28T00:24:33.347598Z",
     "start_time": "2023-11-28T00:24:33.345147Z"
    }
   },
   "outputs": [],
   "source": [
    "def naive_bayes_predict(review, logprior, loglikelihood):\n",
    "    '''\n",
    "    Params:\n",
    "        review: a string\n",
    "        logprior: a number\n",
    "        loglikelihood: a dictionary of words mapping to numbers\n",
    "    Return:\n",
    "        total_prob: the sum of all the loglikelihoods of each word in the review (if found in the dictionary) + logprior (a number)\n",
    "\n",
    "    '''\n",
    "    \n",
    "    # process the review to get a list of words\n",
    "    word_l = clean_review(review).split()\n",
    "\n",
    "    # probability for each word\n",
    "    # word_p = {word: 0 for word in word_l}\n",
    "\n",
    "    # initialize probability to zero\n",
    "    total_prob = 0\n",
    "\n",
    "    # add the logprior\n",
    "    total_prob = logprior\n",
    "    prob_pos = logprior\n",
    "    prob_neg = logprior\n",
    "\n",
    "    for word in word_l:\n",
    "\n",
    "        # check if the word exists in the loglikelihood dictionary\n",
    "        if word in loglikelihood:\n",
    "            # add the log likelihood of that word to the probability\n",
    "            # total_prob += None\n",
    "            prob_pos += loglikelihood[word][0]\n",
    "            prob_neg += loglikelihood[word][1]\n",
    "\n",
    "            # save the log likelihood\n",
    "            # word_p[word] = loglikelihood[word]\n",
    "\n",
    "    # print(word_p)\n",
    "    return 0 if prob_pos < prob_neg else 1"
   ]
  },
  {
   "cell_type": "markdown",
   "source": [
    "## Testing a sample review"
   ],
   "metadata": {
    "collapsed": false
   },
   "id": "145a65a9b8899aea"
  },
  {
   "cell_type": "code",
   "execution_count": 73,
   "id": "4b170333",
   "metadata": {
    "id": "4b170333",
    "outputId": "0cf6bc90-90e8-4dee-bf95-7eaf39dce147",
    "colab": {
     "base_uri": "https://localhost:8080/"
    },
    "ExecuteTime": {
     "end_time": "2023-11-28T00:24:33.370531Z",
     "start_time": "2023-11-28T00:24:33.348996Z"
    }
   },
   "outputs": [
    {
     "name": "stdout",
     "output_type": "stream",
     "text": [
      "The output is 0\n"
     ]
    }
   ],
   "source": [
    "my_review = \"I thought this series was going to be another fun, action series with some dynamic plots and great performances. I was wrong. While I like Jamie Denton, this show is hardly worth watching at all, unless you enjoy watching some people brutalized and the actions of the agents supposedly warranted under the theme of national security. The show is great propaganda for the current government, and spews out jingoism as though we talk that way every day. After a couple of episodes, it was boring the hell out of me, and I started watching reruns of House Invaders on BBCAmerica instead. Rather watch CSI and Without a Trace, without a doubt.\"\n",
    "p = naive_bayes_predict(my_review, logprior, loglikelihood)\n",
    "print('The output is', p)"
   ]
  },
  {
   "cell_type": "markdown",
   "id": "6242708f",
   "metadata": {
    "id": "6242708f"
   },
   "source": [
    "### Expected Output :\n",
    "The expected output is 1"
   ]
  },
  {
   "cell_type": "markdown",
   "id": "7c4eeb71",
   "metadata": {
    "id": "7c4eeb71"
   },
   "source": [
    "## Implementing Naive Bayes Test function:"
   ]
  },
  {
   "cell_type": "code",
   "execution_count": 74,
   "id": "66a511e7",
   "metadata": {
    "id": "66a511e7",
    "ExecuteTime": {
     "end_time": "2023-11-28T00:24:33.377080Z",
     "start_time": "2023-11-28T00:24:33.371006Z"
    }
   },
   "outputs": [],
   "source": [
    "def test_naive_bayes(test_x, test_y, logprior, loglikelihood):\n",
    "    \"\"\"\n",
    "    Input:\n",
    "        test_x: A list of reviews\n",
    "        test_y: the corresponding labels for the list of reviews\n",
    "        logprior: the logprior\n",
    "        loglikelihood: a dictionary with the loglikelihoods for each word\n",
    "    Output:\n",
    "        accuracy: (# of reviews classified correctly)/(total # of reviews)\n",
    "    \"\"\"\n",
    "    accuracy = 0  \n",
    "\n",
    "    \n",
    "    y_hats = []\n",
    "    for review in test_x:\n",
    "        # if the prediction is > 0\n",
    "        if naive_bayes_predict(review, logprior, loglikelihood) > 0:\n",
    "            # the predicted class is 1\n",
    "            y_hat_i = 1\n",
    "        else:\n",
    "            # otherwise the predicted class is 0\n",
    "            y_hat_i = 0\n",
    "\n",
    "        # append the predicted class to the list y_hats\n",
    "        y_hats.append(1)\n",
    "\n",
    "    # error is the average of the absolute values of the differences between y_hats and test_y\n",
    "    error = np.mean(np.abs(np.array(y_hats) - np.array(test_y)))\n",
    "\n",
    "    correct = 0\n",
    "    for i in range(len(test_y)):\n",
    "        if test_y[i] == y_hats[i]:\n",
    "            correct += 1\n",
    "\n",
    "    accuracy = correct/len(test_y)\n",
    "\n",
    "    return accuracy"
   ]
  },
  {
   "cell_type": "code",
   "execution_count": 75,
   "id": "8a9c5d9d",
   "metadata": {
    "id": "8a9c5d9d",
    "ExecuteTime": {
     "end_time": "2023-11-28T00:24:33.404107Z",
     "start_time": "2023-11-28T00:24:33.376610Z"
    }
   },
   "outputs": [
    {
     "name": "stdout",
     "output_type": "stream",
     "text": [
      "If you like original gut wrenching laughter you will like this movie. If you are young or old then y -> 0.00\n",
      "What a waste of talent. A very poor, semi-coherent, script cripples this film. Rather unimaginative  -> 1.00\n",
      "I have seen this film at least 100 times and I am still excited by it, the acting is perfect and the -> 0.00\n",
      "Cheap, amateurish, unimaginative, exploitative... but don't think it'll have redeeming amusement val -> 1.00\n"
     ]
    }
   ],
   "source": [
    "for review in [\"If you like original gut wrenching laughter you will like this movie. If you are young or old then you will love this movie, hell even my mom liked it.<br /><br />Great Camp!!!\",\n",
    "                \"What a waste of talent. A very poor, semi-coherent, script cripples this film. Rather unimaginative direction, too. Some VERY faint echoes of Fargo here, but it just doesn't come off.\",\n",
    "                \"I have seen this film at least 100 times and I am still excited by it, the acting is perfect and the romance between Joe and Jean keeps me on the edge of my seat, plus I still think Bryan Brown is the tops. Brilliant Film.\",\n",
    "                \"Cheap, amateurish, unimaginative, exploitative... but don't think it'll have redeeming amusement value. About as unentertaining, uninstructive and just plain dull as a film can be.\"]:\n",
    "    p = naive_bayes_predict(review, logprior, loglikelihood)\n",
    "    print(f'{review[:100]} -> {p:.2f}')\n",
    "    "
   ]
  },
  {
   "cell_type": "markdown",
   "id": "43e2ef98",
   "metadata": {
    "id": "43e2ef98"
   },
   "source": [
    "### Expected Output :\n",
    "\n",
    "If you like original gut wrenching laughter you will like this movie. If you are young or old then y -> 0.00 <br>\n",
    "What a waste of talent. A very poor, semi-coherent, script cripples this film. Rather unimaginative  -> 1.00<br>\n",
    "I have seen this film at least 100 times and I am still excited by it, the acting is perfect and the -> 0.00 <br>\n",
    "Cheap, amateurish, unimaginative, exploitative... but don't think it'll have redeeming amusement val -> 1.00\n",
    "\n"
   ]
  },
  {
   "cell_type": "code",
   "execution_count": 76,
   "id": "216fa97a",
   "metadata": {
    "id": "216fa97a",
    "colab": {
     "base_uri": "https://localhost:8080/"
    },
    "outputId": "9d1f21c7-b324-43c2-e841-269c0306cbb4",
    "ExecuteTime": {
     "end_time": "2023-11-28T00:24:33.408724Z",
     "start_time": "2023-11-28T00:24:33.401111Z"
    }
   },
   "outputs": [
    {
     "data": {
      "text/plain": "1"
     },
     "execution_count": 76,
     "metadata": {},
     "output_type": "execute_result"
    }
   ],
   "source": [
    "# other testing\n",
    "my_review = 'The moview was very boring, I wanted to leave in the middle'\n",
    "naive_bayes_predict(my_review, logprior, loglikelihood)"
   ]
  },
  {
   "cell_type": "markdown",
   "id": "8a45e4f0",
   "metadata": {
    "id": "8a45e4f0"
   },
   "source": [
    "### Expected Output :\n",
    "1"
   ]
  },
  {
   "cell_type": "markdown",
   "source": [
    "# Evaluation: Accuracy\n",
    "Using a confusion matrix"
   ],
   "metadata": {
    "id": "mAIkM4aCC1H7"
   },
   "id": "mAIkM4aCC1H7"
  },
  {
   "cell_type": "code",
   "execution_count": 77,
   "outputs": [
    {
     "data": {
      "text/plain": "<Figure size 640x480 with 2 Axes>",
      "image/png": "[encoded data removed]"
     },
     "metadata": {},
     "output_type": "display_data"
    },
    {
     "name": "stdout",
     "output_type": "stream",
     "text": [
      "0.6\n"
     ]
    }
   ],
   "source": [
    "'''\n",
    "Input:\n",
    "seed: Random seed\n",
    "\n",
    "Output: accuracy\n",
    "'''\n",
    "def evalAccuracy(seed):\n",
    "    N_samples = 10\n",
    "\n",
    "    X_train_a, X_test_a, y_train_a, y_test_a = train_test_split(df['review'], df['sentiment'], train_size=N_samples, test_size=N_samples, random_state=seed)\n",
    "\n",
    "    # map to numerical data\n",
    "    output_map = {'positive': 0, 'negative': 1}\n",
    "    y_train_a = y_train_a.map(output_map)\n",
    "    y_test_a = y_test_a.map(output_map)\n",
    "\n",
    "    freqs_a = review_counter({}, X_train_a, y_train_a)\n",
    "    logprior, loglikelihood = train_naive_bayes(freqs_a, X_train_a, y_train_a)\n",
    "\n",
    "    y_hat_a = X_test_a.map(lambda x : naive_bayes_predict(x, logprior, loglikelihood))\n",
    "\n",
    "    # list for easy indexing\n",
    "    y_test_a = y_test_a.tolist()\n",
    "    y_hat_a = y_hat_a.tolist()\n",
    "\n",
    "    # print confusion matrix\n",
    "    cm = confusion_matrix(y_test_a, y_hat_a)\n",
    "    disp = ConfusionMatrixDisplay(confusion_matrix=cm, display_labels=[0,1])\n",
    "    disp = disp.plot(cmap=plt.get_cmap(\"Blues\"))\n",
    "    plt.show()\n",
    "\n",
    "    # accuracy\n",
    "    correct = 0\n",
    "    for i in range(len(y_test_a)):\n",
    "        if y_test_a[i] == y_hat_a[i]:\n",
    "            correct += 1\n",
    "\n",
    "    accuracy = correct/len(y_test_a)\n",
    "\n",
    "    return accuracy\n",
    "\n",
    "print(evalAccuracy(10))"
   ],
   "metadata": {
    "collapsed": false,
    "ExecuteTime": {
     "end_time": "2023-11-28T00:24:34.062110Z",
     "start_time": "2023-11-28T00:24:33.417270Z"
    }
   },
   "id": "797326c473fa6cb2"
  },
  {
   "cell_type": "markdown",
   "source": [
    "# Saving The Model\n",
    "Saving the model parameters is crucial for future deployments"
   ],
   "metadata": {
    "collapsed": false
   },
   "id": "bb9e3adb9505d822"
  },
  {
   "cell_type": "code",
   "execution_count": 79,
   "outputs": [],
   "source": [
    "model_parameters = {\n",
    "    'logprior': logprior,\n",
    "    'loglikelihood': loglikelihood\n",
    "}\n",
    "\n",
    "# Save the model parameters to a file\n",
    "with open('movie_sentiment_model_parameters.json', 'w') as file:\n",
    "    json.dump(model_parameters, file)"
   ],
   "metadata": {
    "collapsed": false,
    "ExecuteTime": {
     "end_time": "2023-11-28T00:30:48.093606Z",
     "start_time": "2023-11-28T00:30:47.400192Z"
    }
   },
   "id": "67619e248879c6e2"
  }
 ],
 "metadata": {
  "kernelspec": {
   "display_name": "Python 3 (ipykernel)",
   "language": "python",
   "name": "python3"
  },
  "language_info": {
   "codemirror_mode": {
    "name": "ipython",
    "version": 3
   },
   "file_extension": ".py",
   "mimetype": "text/x-python",
   "name": "python",
   "nbconvert_exporter": "python",
   "pygments_lexer": "ipython3",
   "version": "3.9.5"
  },
  "colab": {
   "name": "CS6120_NLP_Assignment_1_Notebook.ipynb",
   "provenance": [],
   "collapsed_sections": [],
   "toc_visible": true
  }
 },
 "nbformat": 4,
 "nbformat_minor": 5
}
