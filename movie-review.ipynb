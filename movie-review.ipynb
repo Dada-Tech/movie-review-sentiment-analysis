{
 "cells": [
  {
   "cell_type": "markdown",
   "id": "bc97d6da",
   "metadata": {
    "id": "bc97d6da"
   },
   "source": [
    "## CS 6120: Natural Language Processing - Prof. Ahmad Uzair\n",
    "\n",
    "### Assignment 1: Naive Bayes\n",
    "### Total Points: 100 points\n",
    "\n",
    "You will be dealing with movie review data that includes both positive and negative reviews in this assignment. You will use Sentiment Analysis to assess if a given review is positive or negative using the provided dataset.\n",
    "\n",
    "Therefore, we will make use of Naive Bayes algorithm to perform sentiment analysis on the movie review dataset.\n",
    "\n",
    "## Importing the Libraries"
   ]
  },
  {
   "cell_type": "code",
   "execution_count": 1,
   "id": "a03450ac",
   "metadata": {
    "id": "a03450ac"
   },
   "outputs": [],
   "source": [
    "import numpy as np\n",
    "import math\n",
    "import pandas as pd\n",
    "import re\n",
    "import string\n",
    "import nltk\n",
    "from nltk.corpus import stopwords\n",
    "from nltk.stem import PorterStemmer\n",
    "from nltk.tokenize import word_tokenize\n",
    "# nltk.download('stopwords')\n",
    "import warnings\n",
    "import seaborn as sns\n",
    "import matplotlib.pyplot as plt\n",
    "from sklearn.utils import resample\n",
    "from sklearn.model_selection import train_test_split\n",
    "from sklearn.metrics import confusion_matrix, ConfusionMatrixDisplay\n",
    "warnings.filterwarnings(\"ignore\")"
   ]
  },
  {
   "cell_type": "markdown",
   "id": "fc584cc2",
   "metadata": {
    "id": "fc584cc2"
   },
   "source": [
    "## Reading the data\n",
    "\n",
    "When reading the data, ensure that the '.csv' file is in the same location where your jupyter notebook is used. This way the files are organized and easy to read using the pandas library. "
   ]
  },
  {
   "cell_type": "code",
   "execution_count": 2,
   "id": "3c9ffbf5",
   "metadata": {
    "id": "3c9ffbf5"
   },
   "outputs": [],
   "source": [
    "## Reading the data and removing columns that are not important. \n",
    "df = pd.read_csv(\"movie_reviews.csv\", sep = ',', encoding = 'latin-1', usecols = lambda col: col not in [\"Unnamed: 2\", \"Unnamed: 3\", \"Unnamed: 4\"])"
   ]
  },
  {
   "cell_type": "code",
   "execution_count": 3,
   "id": "f7fa8ac0",
   "metadata": {
    "colab": {
     "base_uri": "https://localhost:8080/",
     "height": 206
    },
    "id": "f7fa8ac0",
    "outputId": "69edaf28-1e2e-4ec7-9530-b30a2853ab9e"
   },
   "outputs": [
    {
     "data": {
      "text/plain": "                                              review sentiment\n0  One of the other reviewers has mentioned that ...  positive\n1  A wonderful little production. <br /><br />The...  positive\n2  I thought this was a wonderful way to spend ti...  positive\n3  Petter Mattei's \"Love in the Time of Money\" is...  positive\n4  Probably my all-time favorite movie, a story o...  positive",
      "text/html": "<div>\n<style scoped>\n    .dataframe tbody tr th:only-of-type {\n        vertical-align: middle;\n    }\n\n    .dataframe tbody tr th {\n        vertical-align: top;\n    }\n\n    .dataframe thead th {\n        text-align: right;\n    }\n</style>\n<table border=\"1\" class=\"dataframe\">\n  <thead>\n    <tr style=\"text-align: right;\">\n      <th></th>\n      <th>review</th>\n      <th>sentiment</th>\n    </tr>\n  </thead>\n  <tbody>\n    <tr>\n      <th>0</th>\n      <td>One of the other reviewers has mentioned that ...</td>\n      <td>positive</td>\n    </tr>\n    <tr>\n      <th>1</th>\n      <td>A wonderful little production. &lt;br /&gt;&lt;br /&gt;The...</td>\n      <td>positive</td>\n    </tr>\n    <tr>\n      <th>2</th>\n      <td>I thought this was a wonderful way to spend ti...</td>\n      <td>positive</td>\n    </tr>\n    <tr>\n      <th>3</th>\n      <td>Petter Mattei's \"Love in the Time of Money\" is...</td>\n      <td>positive</td>\n    </tr>\n    <tr>\n      <th>4</th>\n      <td>Probably my all-time favorite movie, a story o...</td>\n      <td>positive</td>\n    </tr>\n  </tbody>\n</table>\n</div>"
     },
     "execution_count": 3,
     "metadata": {},
     "output_type": "execute_result"
    }
   ],
   "source": [
    "df.head()  # print head of data frame with help of head function"
   ]
  },
  {
   "cell_type": "markdown",
   "id": "1749da04",
   "metadata": {
    "id": "1749da04"
   },
   "source": [
    "## Count plot of the output categories: positive or negative\n",
    "\n",
    "Feel free to take a look at the output and whether the classes are balanced or imbalanced."
   ]
  },
  {
   "cell_type": "code",
   "execution_count": 4,
   "outputs": [
    {
     "data": {
      "text/plain": "<Figure size 700x500 with 1 Axes>",
      "image/png": "[encoded data removed]"
     },
     "metadata": {},
     "output_type": "display_data"
    }
   ],
   "source": [
    "plt.figure(figsize = (7,5))\n",
    "sns.countplot(x='sentiment', hue='sentiment', data=df)\n",
    "plt.title(\"Positive Vs. Negative reviews count\", fontsize = 15)\n",
    "plt.show()"
   ],
   "metadata": {
    "collapsed": false
   }
  },
  {
   "cell_type": "markdown",
   "id": "9b8549f2",
   "metadata": {
    "id": "9b8549f2"
   },
   "source": [
    "## Upsampling the minority class: (5 points)\n",
    "\n",
    "It is known that Naive bayes is not robust to class imbalance. It could be seen above that the data is little imbalanced. Therefore, class balancing can be done before giving it to the Naive Bayes model for prediction. \n",
    "\n",
    "Feel free to use 'resample' library from sklearn. "
   ]
  },
  {
   "cell_type": "code",
   "source": [
    "## hint: use resample from sklearn.utils\n",
    "\n",
    "# positive    12474\n",
    "# negative    12225\n",
    "\n",
    "df_majority = df.loc[df['sentiment'] == 'positive']\n",
    "df_minority = df.loc[df['sentiment'] == 'negative']\n",
    "\n",
    "negative_upsample = resample(df_minority, replace = True, \n",
    "                        n_samples = df_majority.shape[0],\n",
    "                        random_state = 101)\n",
    "\n",
    "df_upsampled = pd.concat([df_majority, negative_upsample])  # concat two data frames i,e majority class data set and upsampled minority class data set\n",
    "df_upsampled = df_upsampled.sample(frac = 1)"
   ],
   "metadata": {
    "id": "yHJTAqrW7XMN"
   },
   "id": "yHJTAqrW7XMN",
   "execution_count": 5,
   "outputs": []
  },
  {
   "cell_type": "code",
   "execution_count": 6,
   "id": "6a9329bb",
   "metadata": {
    "id": "6a9329bb"
   },
   "outputs": [
    {
     "name": "stdout",
     "output_type": "stream",
     "text": [
      "(12474, 2)\n"
     ]
    }
   ],
   "source": [
    "## Just to ensure that upsampling was done successfully, take a look at the shape of the data in \n",
    "## this cell.\n",
    "upsampled_shape = df_upsampled.shape\n",
    "\n",
    "# print the shape of data set with the help of shape function having \"negative\" as class label\n",
    "print(negative_upsample.shape)"
   ]
  },
  {
   "cell_type": "markdown",
   "id": "6f8bf6e7",
   "metadata": {
    "id": "6f8bf6e7"
   },
   "source": [
    "### Expected Output : \n",
    "(12474, 2)"
   ]
  },
  {
   "cell_type": "code",
   "execution_count": 7,
   "id": "bdea8155",
   "metadata": {
    "colab": {
     "base_uri": "https://localhost:8080/"
    },
    "id": "bdea8155",
    "outputId": "c665c4b9-826e-4f4e-e30e-06e0935a0622"
   },
   "outputs": [
    {
     "name": "stdout",
     "output_type": "stream",
     "text": [
      "(12474, 2)\n"
     ]
    }
   ],
   "source": [
    "## Ensure that the same number of data points are present for both 'positive' and 'negative' data\n",
    "counts = df_upsampled['sentiment'].value_counts()\n",
    "\n",
    "# print the shape of data set with the help of shape function having \"positive\" as class label\n",
    "print(df.loc[df['sentiment'] == 'positive'].shape)"
   ]
  },
  {
   "cell_type": "markdown",
   "id": "626f01d5",
   "metadata": {
    "id": "626f01d5"
   },
   "source": [
    "### Expected Output : \n",
    "(12474, 2)"
   ]
  },
  {
   "cell_type": "code",
   "source": [
    "## In this cell, we are going to be dividing the data into train and test points\n",
    "## Ensure that you store the upsampled data in a variable called 'df_upsampled' \n",
    "## so that the below operations are performed successfully\n",
    "\n",
    "\n",
    "## Considering 10000 positive and 10000 negative data points\n",
    "positive_data_points_train = df_upsampled.loc[df['sentiment'] == 'positive'].iloc[:10000]\n",
    "negative_data_points_train = df_upsampled.loc[df['sentiment'] == 'negative'].iloc[:10000]\n",
    "\n",
    "## Considering the remaining data points for test\n",
    "positive_data_points_test = df_upsampled.loc[df['sentiment'] == 'positive'].iloc[10000:]\n",
    "negative_data_points_test = df_upsampled.loc[df['sentiment'] == 'negative'].iloc[10000:]\n",
    "\n",
    "## Concatenate the training positive and negative reviews\n",
    "X_train = pd.concat([positive_data_points_train['review'], negative_data_points_train['review']])\n",
    "## Concatenating the training positive and negative outputs\n",
    "y_train = pd.concat([positive_data_points_train['sentiment'], negative_data_points_train['sentiment']])\n",
    "\n",
    "## Concatenating the test positive and negative reviews\n",
    "X_test = pd.concat([positive_data_points_test['review'], negative_data_points_test['review']])\n",
    "## Concatenating the test positive and negative outputs\n",
    "y_test = pd.concat([positive_data_points_test['sentiment'], negative_data_points_test['sentiment']])\n"
   ],
   "metadata": {
    "id": "NoW5z6SzAeP8"
   },
   "execution_count": 8,
   "outputs": [],
   "id": "NoW5z6SzAeP8"
  },
  {
   "cell_type": "code",
   "execution_count": 9,
   "id": "6428047d",
   "metadata": {
    "colab": {
     "base_uri": "https://localhost:8080/"
    },
    "id": "6428047d",
    "outputId": "10d10601-0ce0-4688-c4d3-75fa386583fd"
   },
   "outputs": [
    {
     "name": "stdout",
     "output_type": "stream",
     "text": [
      "positive    10000\n",
      "negative    10000\n",
      "Name: sentiment, dtype: int64\n"
     ]
    }
   ],
   "source": [
    "## Take a look at the total number of classes and their count using '.value_counts()' for y_train and y_test.\n",
    "## Ensure that there are equal number of positive and negative reviews.\n",
    "print(y_train.value_counts())"
   ]
  },
  {
   "cell_type": "markdown",
   "id": "7dfe6517",
   "metadata": {
    "id": "7dfe6517"
   },
   "source": [
    "### Expected Output:\n",
    "negative    10000<br>\n",
    "positive    10000<br>\n",
    "Name: sentiment, dtype: int64"
   ]
  },
  {
   "cell_type": "code",
   "execution_count": 10,
   "outputs": [
    {
     "name": "stdout",
     "output_type": "stream",
     "text": [
      "positive    2474\n",
      "negative    2474\n",
      "Name: sentiment, dtype: int64\n"
     ]
    }
   ],
   "source": [
    "print(y_test.value_counts())"
   ],
   "metadata": {
    "collapsed": false
   }
  },
  {
   "cell_type": "markdown",
   "id": "9163f897",
   "metadata": {
    "id": "9163f897"
   },
   "source": [
    "### Expected Output : \n",
    "negative    2474<br>\n",
    "positive    2474<br>\n",
    "Name: sentiment, dtype: int64"
   ]
  },
  {
   "cell_type": "markdown",
   "id": "6501699b",
   "metadata": {
    "id": "6501699b"
   },
   "source": [
    "## Q1. Pre-process the reviews: (10 points)\n",
    "\n",
    "We know that a review contains links, punctuation, stopwords and many other words that don't give a lot of meaning for the Naive Bayes model for prediction. \n",
    "\n",
    "In the cell below, one must implement text-preprocessing and remove links, punctuations and stopwords. It is also important to lowercase the letters so that 'Admire' and 'admire' are not treated as different words. \n",
    "\n",
    "In addition to this, perform stemming operation so that similar words are reduced. To know more about stemming, feel free to take a look at this link.\n",
    "\n",
    "https://nlp.stanford.edu/IR-book/html/htmledition/stemming-and-lemmatization-1.html"
   ]
  },
  {
   "cell_type": "code",
   "execution_count": 11,
   "outputs": [],
   "source": [
    "# stemmer\n",
    "stemmer = PorterStemmer()"
   ],
   "metadata": {
    "collapsed": false
   }
  },
  {
   "cell_type": "code",
   "source": [
    "# TASK CELL\n",
    "def clean_review(review):\n",
    "    '''\n",
    "    Input:\n",
    "        review: a string containing a review.\n",
    "    Output:\n",
    "        review_cleaned: a processed review.\n",
    "    '''\n",
    "\n",
    "    cleaned_review = review\n",
    "\n",
    "    # remove links\n",
    "    cleaned_review = re.sub(r\"<br />\", \"\", cleaned_review)\n",
    "\n",
    "    # punctuation\n",
    "    cleaned_review = re.sub(f\"[{string.punctuation}]\", \"\", cleaned_review)\n",
    "\n",
    "    # lowercase\n",
    "    cleaned_review = cleaned_review.lower()\n",
    "\n",
    "    # tokenize\n",
    "    cleaned_review = word_tokenize(cleaned_review)\n",
    "\n",
    "    # stopwords\n",
    "    cleaned_review = [word for word in cleaned_review if word not in stopwords.words('english')]\n",
    "\n",
    "    # stemming\n",
    "    cleaned_review = [stemmer.stem(token) for token in cleaned_review]\n",
    "\n",
    "    # recombine tokens\n",
    "    cleaned_review = \" \".join(cleaned_review)\n",
    "\n",
    "    return cleaned_review"
   ],
   "metadata": {
    "id": "CirLN9-ddQ1r"
   },
   "id": "CirLN9-ddQ1r",
   "execution_count": 12,
   "outputs": []
  },
  {
   "cell_type": "markdown",
   "id": "a7632fe5",
   "metadata": {
    "id": "a7632fe5"
   },
   "source": [
    "## Q2. Implement a find_occurrence function (5 points):\n",
    "\n",
    "In this function, we find the total occurrence of a word giving information such as label, word and frequency dictionary.\n",
    "\n",
    "Note that this function is used later in the code when we are going to be predicting the output using Naive Bayes. "
   ]
  },
  {
   "cell_type": "code",
   "execution_count": 13,
   "id": "eb282b81",
   "metadata": {
    "id": "eb282b81"
   },
   "outputs": [],
   "source": [
    "# TASK CELL\n",
    "def find_occurrence(frequency, word, label):\n",
    "    '''\n",
    "    Params:\n",
    "        frequency: a dictionary with the frequency of each pair (or tuple)\n",
    "        word: the word to look up\n",
    "        label: the label corresponding to the word\n",
    "\n",
    "        { (word,label):num_occurrence }\n",
    "    Return:\n",
    "        n: the number of times the word with its corresponding label appears.\n",
    "    '''\n",
    "\n",
    "    n = frequency[(word, label)] if (word,label) in frequency else 0\n",
    "\n",
    "    return n\n",
    "\n",
    "# print(find_occurrence({ ('hello', 0) : 10 },'hello', 0))"
   ]
  },
  {
   "cell_type": "markdown",
   "id": "29a2249d",
   "metadata": {
    "id": "29a2249d"
   },
   "source": [
    "### Converting output to numerical format:\n",
    "\n",
    "We have outputs as 'positive' or 'negative'. In the cell below, we convert it to a numerical format. "
   ]
  },
  {
   "cell_type": "code",
   "execution_count": 14,
   "id": "bcdc2b2c",
   "metadata": {
    "id": "bcdc2b2c"
   },
   "outputs": [],
   "source": [
    "## With the use of mapping function, we replace\n",
    "## the label in the form of string to an integer. \n",
    "\n",
    "output_map = {'positive': 0, 'negative': 1}\n",
    "y_train = y_train.map(output_map)\n",
    "y_test = y_test.map(output_map)"
   ]
  },
  {
   "cell_type": "code",
   "execution_count": 15,
   "id": "3dde0bbd",
   "metadata": {
    "colab": {
     "base_uri": "https://localhost:8080/"
    },
    "id": "3dde0bbd",
    "outputId": "223dfbc1-8efe-4183-b6d7-c9cb025cb285"
   },
   "outputs": [
    {
     "data": {
      "text/plain": "0    10000\n1    10000\nName: sentiment, dtype: int64"
     },
     "execution_count": 15,
     "metadata": {},
     "output_type": "execute_result"
    }
   ],
   "source": [
    "## Ensuring that there are equal number of classes on the training data. \n",
    "y_train.value_counts()"
   ]
  },
  {
   "cell_type": "code",
   "execution_count": 16,
   "id": "f2959b85",
   "metadata": {
    "colab": {
     "base_uri": "https://localhost:8080/",
     "height": 178
    },
    "id": "f2959b85",
    "outputId": "e514214b-cd57-43fc-875d-1821ddab63f8"
   },
   "outputs": [
    {
     "data": {
      "text/plain": "\"I loved Dedee Pfeiffer (is that spelled right?) in Cybil. Haven't seen her for awhile and forgot how much I missed her. I thought she did a great job in this. The supporting cast was pretty good too. In some angles, the daughter even looked like a young Nicole Kidman. The abductor was pretty creepy and the story generally had some good twists. The young boyfriend was a hottie. I thought the husband definitely had something to do with it for sure.<br /><br />Just got the Lifetime Movie Network for Christmas and am loving these movies. Kept my interest and I'll watch it again when they rerun it. Can anyone else recommend any similar movies to this? You can post on the board or send me a private email if you want. Thanks in advance. Aboutagirly.\""
     },
     "execution_count": 16,
     "metadata": {},
     "output_type": "execute_result"
    }
   ],
   "source": [
    "## Choosing a random review and taking a look at it.\n",
    "X_train.iloc[0]"
   ]
  },
  {
   "cell_type": "markdown",
   "id": "ed5e43c9",
   "metadata": {
    "id": "ed5e43c9"
   },
   "source": [
    "From the above cell output, it could be seen that there are a lot of words that don't add a lot of meaning to the text. \n",
    "\n",
    "Therefore, those words would be removed. It also reduces the computation time. \n",
    "\n",
    "Therefore, it is a good practice we are following."
   ]
  },
  {
   "cell_type": "code",
   "execution_count": 17,
   "id": "ad3937ea",
   "metadata": {
    "colab": {
     "base_uri": "https://localhost:8080/"
    },
    "id": "ad3937ea",
    "outputId": "68985efe-32cd-4c11-ed5b-2e1e1b297e73"
   },
   "outputs": [
    {
     "name": "stdout",
     "output_type": "stream",
     "text": [
      "love dede pfeiffer spell right cybil havent seen awhil forgot much miss thought great job support cast pretti good angl daughter even look like young nicol kidman abductor pretti creepi stori gener good twist young boyfriend hotti thought husband definit someth surejust got lifetim movi network christma love movi kept interest ill watch rerun anyon els recommend similar movi post board send privat email want thank advanc aboutagirli\n"
     ]
    }
   ],
   "source": [
    "custom_review = X_train.iloc[0]\n",
    "\n",
    "# print cleaned review\n",
    "print(clean_review(custom_review))"
   ]
  },
  {
   "cell_type": "markdown",
   "id": "3e6cc440",
   "metadata": {
    "id": "3e6cc440"
   },
   "source": [
    "We now use this function to pre-process the review and remove words that don't add a lot of meaning in our model. "
   ]
  },
  {
   "cell_type": "markdown",
   "id": "5a762960",
   "metadata": {
    "id": "5a762960"
   },
   "source": [
    "## Q3. Implementing review counter function: (5 points)\n",
    "\n",
    "It is now time to implement the count function for the reviews. \n",
    "\n",
    "In this function, we count the occurrence of words and get the probabilities \n",
    "for the words based on the training data. \n",
    "\n",
    "In other words, we get the probability of occurrence of a word, given that the output is 'positive'.\n",
    "\n",
    "Similarly, we also compute the probability of occurence of a word, given that the output is 'negative'.\n",
    "\n"
   ]
  },
  {
   "cell_type": "code",
   "execution_count": 18,
   "id": "5de61f77",
   "metadata": {
    "id": "5de61f77"
   },
   "outputs": [],
   "source": [
    "# TASK CELL\n",
    "def review_counter(output_occurrence, reviews, positive_or_negative):\n",
    "    '''\n",
    "    Params:\n",
    "        output_occurrence: a dictionary that will be used to map each pair to its frequency\n",
    "        reviews: a list of reviews\n",
    "        positive_or_negative: a list corresponding to the sentiment of each review (either 0 or 1)\n",
    "    Return:\n",
    "        output: a dictionary mapping each pair to its frequency\n",
    "    '''\n",
    "    ## Steps :\n",
    "    # define the key, which is the word and label tuple\n",
    "    # if the key exists in the dictionary, increment the count\n",
    "    # else, if the key is new, add it to the dictionary and set the count to 1\n",
    "    \n",
    "    for label, review in zip(positive_or_negative, reviews):\n",
    "      split_review = clean_review(review).split()\n",
    "      for word in split_review:\n",
    "        key = (word, label)\n",
    "        output_occurrence[key] = output_occurrence[key] + 1 if key in output_occurrence else 1\n",
    "    return output_occurrence\n",
    "   \n"
   ]
  },
  {
   "cell_type": "markdown",
   "id": "18238223",
   "metadata": {
    "id": "18238223"
   },
   "source": [
    "### Test your function with example reviews:\n",
    "\n",
    "Feel free to run the cell below and understand whether the above function that you have defined is producing the optimum results. "
   ]
  },
  {
   "cell_type": "code",
   "execution_count": 19,
   "id": "07a4c58a",
   "metadata": {
    "colab": {
     "base_uri": "https://localhost:8080/"
    },
    "id": "07a4c58a",
    "outputId": "dd9e148a-34a9-4cfe-9077-c5de33493d7a"
   },
   "outputs": [
    {
     "data": {
      "text/plain": "{('got', 1): 1,\n ('bore', 1): 2,\n ('throught', 1): 1,\n ('moview', 1): 1,\n ('movi', 0): 2,\n ('fantast', 0): 1,\n ('watch', 1): 1,\n ('complet', 1): 1,\n ('wast', 1): 1,\n ('time', 1): 1,\n ('money', 1): 1,\n ('enjoy', 0): 1,\n ('fullest', 0): 1}"
     },
     "execution_count": 19,
     "metadata": {},
     "output_type": "execute_result"
    }
   ],
   "source": [
    "# Testing your function\n",
    "\n",
    "result = {}\n",
    "reviews = ['got bored throught the moview', 'The movie was fantastic', 'Will not watch it again', 'Was bored, it was a complete waste of time and money', 'Enjoyed the movie to the fullest']\n",
    "ys = [1, 0, 1, 1, 0]\n",
    "review_counter(result,reviews, ys)"
   ]
  },
  {
   "cell_type": "markdown",
   "id": "927f89bb",
   "metadata": {
    "id": "927f89bb"
   },
   "source": [
    "### Expected Output:\n",
    " {('bored', 1): 2, <br>\n",
    " ('complete', 1): 1, <br>\n",
    " ('enjoyed', 0): 1, <br>\n",
    " ('fantastic', 0): 1, <br>\n",
    " ('fullest', 0): 1, <br>\n",
    " ('got', 1): 1, <br>\n",
    " ('money', 1): 1, <br>\n",
    " ('movie', 0): 2, <br>\n",
    " ('moview', 1): 1, <br>\n",
    " ('throught', 1): 1, <br>\n",
    " ('time', 1): 1, <br>\n",
    " ('waste', 1): 1, <br>\n",
    " ('watch', 1): 1}"
   ]
  },
  {
   "cell_type": "code",
   "execution_count": 20,
   "id": "9bc62e13",
   "metadata": {
    "id": "9bc62e13"
   },
   "outputs": [],
   "source": [
    "# Build the freqs dictionary for later uses\n",
    "\n",
    "freqs = review_counter({}, X_train, y_train)"
   ]
  },
  {
   "cell_type": "code",
   "execution_count": 21,
   "id": "0eddf420",
   "metadata": {
    "id": "0eddf420"
   },
   "outputs": [
    {
     "data": {
      "text/plain": "{('love', 0): 4833,\n ('dede', 0): 1,\n ('pfeiffer', 0): 51,\n ('spell', 0): 75,\n ('right', 0): 1399,\n ('cybil', 0): 5,\n ('havent', 0): 346,\n ('seen', 0): 2703,\n ('awhil', 0): 34,\n ('forgot', 0): 51,\n ('much', 0): 3645,\n ('miss', 0): 874,\n ('thought', 0): 1379,\n ('great', 0): 5024,\n ('job', 0): 1206,\n ('support', 0): 713,\n ('cast', 0): 1829,\n ('pretti', 0): 1159,\n ('good', 0): 5840,\n ('angl', 0): 140,\n ('daughter', 0): 504,\n ('even', 0): 3800,\n ('look', 0): 3162,\n ('like', 0): 8012,\n ('young', 0): 1787,\n ('nicol', 0): 49,\n ('kidman', 0): 23,\n ('abductor', 0): 2,\n ('creepi', 0): 258,\n ('stori', 0): 5448,\n ('gener', 0): 749,\n ('twist', 0): 536,\n ('boyfriend', 0): 175,\n ('hotti', 0): 14,\n ('husband', 0): 460,\n ('definit', 0): 927,\n ('someth', 0): 1629,\n ('surejust', 0): 1,\n ('got', 0): 1258,\n ('lifetim', 0): 83,\n ('movi', 0): 17387,\n ('network', 0): 105,\n ('christma', 0): 152,\n ('kept', 0): 283,\n ('interest', 0): 1867,\n ('ill', 0): 397,\n ('watch', 0): 4967,\n ('rerun', 0): 41,\n ('anyon', 0): 992,\n ('els', 0): 607,\n ('recommend', 0): 1172,\n ('similar', 0): 467,\n ('post', 0): 145,\n ('board', 0): 150,\n ('send', 0): 166,\n ('privat', 0): 122,\n ('email', 0): 44,\n ('want', 0): 2326,\n ('thank', 0): 474,\n ('advanc', 0): 126,\n ('aboutagirli', 0): 1,\n ('alright', 0): 36,\n ('admit', 0): 289,\n ('never', 0): 2561,\n ('rhoda', 0): 6,\n ('one', 0): 10852,\n ('two', 0): 2779,\n ('episod', 0): 1104,\n ('mari', 0): 284,\n ('tyler', 0): 50,\n ('moor', 0): 112,\n ('show', 0): 4346,\n ('though', 0): 1801,\n ('dont', 0): 2627,\n ('know', 0): 2892,\n ('anyth', 0): 824,\n ('duo', 0): 56,\n ('comed', 0): 142,\n ('talent', 0): 651,\n ('still', 0): 2565,\n ('lotmari', 0): 1,\n ('goe', 0): 902,\n ('back', 0): 1951,\n ('work', 0): 2916,\n ('rose', 0): 143,\n ('tri', 0): 1902,\n ('luck', 0): 85,\n ('comedian', 0): 89,\n ('struggl', 0): 305,\n ('photographi', 0): 207,\n ('career', 0): 444,\n ('meredithwhat', 0): 1,\n ('exactli', 0): 390,\n ('three', 0): 914,\n ('follow', 0): 948,\n ('hour', 0): 592,\n ('amus', 0): 243,\n ('entertain', 0): 1223,\n ('way', 0): 3445,\n ('long', 0): 1324,\n ('time', 0): 6182,\n ('friend', 0): 1426,\n ('reunit', 0): 44,\n ('make', 0): 5254,\n ('film', 0): 20033,\n ('better', 0): 1811,\n ('surpris', 0): 974,\n ('write', 0): 588,\n ('littl', 0): 2576,\n ('joke', 0): 410,\n ('thrown', 0): 117,\n ('funni', 0): 1564,\n ('script', 0): 810,\n ('well', 0): 4611,\n ('put', 0): 1207,\n ('togetheri', 0): 4,\n ('harper', 0): 13,\n ('past', 0): 557,\n ('year', 0): 2923,\n ('idea', 0): 768,\n ('team', 0): 377,\n ('actress', 0): 587,\n ('share', 0): 280,\n ('fulfil', 0): 78,\n ('titl', 0): 592,\n ('seem', 0): 2472,\n ('let', 0): 967,\n ('run', 0): 913,\n ('joie', 0): 4,\n ('lenz', 0): 4,\n ('marisa', 0): 18,\n ('ryan', 0): 178,\n ('play', 0): 3979,\n ('role', 0): 1957,\n ('okay', 0): 181,\n ('noth', 0): 946,\n ('rest', 0): 559,\n ('jonah', 0): 4,\n ('cecil', 0): 18,\n ('andeverybodi', 0): 1,\n ('also', 0): 4158,\n ('togetherb', 0): 1,\n ('reunion', 0): 51,\n ('would', 0): 4203,\n ('expect', 0): 1063,\n ('fan', 0): 1357,\n ('either', 0): 490,\n ('enjoy', 0): 2134,\n ('nonfan', 0): 5,\n ('gettogeth', 0): 1,\n ('line', 0): 1079,\n ('charact', 0): 5491,\n ('main', 0): 814,\n ('newer', 0): 21,\n ('version', 0): 911,\n ('mtm', 0): 1,\n ('theme', 0): 578,\n ('song', 0): 873,\n ('doesnt', 0): 1484,\n ('hurt', 0): 190,\n ('dictat', 0): 55,\n ('chaplin', 0): 137,\n ('first', 0): 3481,\n ('talki', 0): 52,\n ('effort', 0): 314,\n ('remark', 0): 275,\n ('satir', 0): 165,\n ('hitler', 0): 108,\n ('unfortun', 0): 373,\n ('moment', 0): 1166,\n ('brillianc', 0): 67,\n ('offer', 0): 442,\n ('tendenc', 0): 29,\n ('use', 0): 2018,\n ('unnecessari', 0): 54,\n ('dialogu', 0): 448,\n ('ye', 0): 531,\n ('silent', 0): 254,\n ('screen', 0): 1117,\n ('master', 0): 404,\n ('mani', 0): 3086,\n ('word', 0): 681,\n ('toward', 0): 368,\n ('speech', 0): 130,\n ('extran', 0): 6,\n ('passag', 0): 41,\n ('carri', 0): 443,\n ('limelight', 0): 10,\n ('extrem', 0): 626,\n ('dare', 0): 148,\n ('perform', 0): 2817,\n ('dual', 0): 14,\n ('certainli', 0): 684,\n ('memor', 0): 425,\n ('paulett', 0): 7,\n ('goddard', 0): 11,\n ('glow', 0): 33,\n ('modern', 0): 432,\n ('offscreen', 0): 12,\n ('affair', 0): 167,\n ('cool', 0): 351,\n ('alway', 0): 1602,\n ('worth', 0): 981,\n ('see', 0): 5855,\n ('jack', 0): 406,\n ('oaki', 0): 13,\n ('steal', 0): 281,\n ('rival', 0): 118,\n ('famou', 0): 362,\n ('creation', 0): 86,\n ('hynkel', 0): 20,\n ('rent', 0): 321,\n ('obscur', 0): 59,\n ('aussi', 0): 36,\n ('relic', 0): 12,\n ('ago', 0): 454,\n ('place', 0): 1142,\n ('instant', 0): 59,\n ('successth', 0): 4,\n ('classic', 0): 1089,\n ('tale', 0): 462,\n ('wizard', 0): 40,\n ('oz', 0): 66,\n ('decidedli', 0): 22,\n ('cornbal', 0): 10,\n ('70', 0): 289,\n ('australian', 0): 154,\n ('twistth', 0): 2,\n ('act', 0): 2677,\n ('isnt', 0): 1016,\n ('shakespear', 0): 159,\n ('societi', 0): 335,\n ('stuff', 0): 404,\n ('herebut', 0): 4,\n ('later', 0): 958,\n ('mad', 0): 268,\n ('maxstar', 0): 1,\n ('bruce', 0): 164,\n ('spenc', 0): 10,\n ('beauti', 0): 1862,\n ('underst', 0): 83,\n ('surfiescarecrow', 0): 1,\n ('wonderful', 0): 2,\n ('comic', 0): 515,\n ('turn', 0): 1458,\n ('gari', 0): 122,\n ('wadel', 0): 2,\n ('robin', 0): 120,\n ('ramsay', 0): 4,\n ('delici', 0): 76,\n ('camp', 0): 193,\n ('fairi', 0): 62,\n ('godmotherfath', 0): 1,\n ('characteralso', 0): 1,\n ('note', 0): 412,\n ('music', 0): 2092,\n ('contribut', 0): 126,\n ('exdaddi', 0): 1,\n ('frontman', 0): 4,\n ('ross', 0): 31,\n ('wilson', 0): 134,\n ('songin', 0): 1,\n ('vein', 0): 42,\n ('laterday', 0): 1,\n ('comedi', 0): 1484,\n ('priscilla', 0): 26,\n ('queen', 0): 145,\n ('desertgood', 0): 1,\n ('fun', 0): 1243,\n ('blackmail', 0): 40,\n ('base', 0): 646,\n ('sir', 0): 110,\n ('arthur', 0): 128,\n ('conan', 0): 23,\n ('doyl', 0): 27,\n ('short', 0): 885,\n ('adventur', 0): 393,\n ('charl', 0): 245,\n ('augustu', 0): 5,\n ('milverton', 0): 23,\n ('featur', 0): 756,\n ('length', 0): 143,\n ('sherlock', 0): 40,\n ('holm', 0): 170,\n ('jeremi', 0): 59,\n ('brett', 0): 16,\n ('dark', 0): 718,\n ('somewhat', 0): 381,\n ('dreari', 0): 18,\n ('sad', 0): 439,\n ('feel', 0): 2259,\n ('quit', 0): 1690,\n ('especi', 0): 1189,\n ('scenesspoil', 0): 1,\n ('dr', 0): 288,\n ('watson', 0): 66,\n ('attempt', 0): 504,\n ('uncov', 0): 38,\n ('ident', 0): 167,\n ('illus', 0): 36,\n ('ruin', 0): 128,\n ('promin', 0): 56,\n ('famili', 0): 1542,\n ('england', 0): 129,\n ('publish', 0): 47,\n ('letter', 0): 70,\n ('anoth', 0): 1543,\n ('destroy', 0): 170,\n ('live', 0): 2057,\n ('eventu', 0): 348,\n ('find', 0): 2329,\n ('art', 0): 655,\n ('dealer', 0): 49,\n ('tragic', 0): 210,\n ('consequ', 0): 123,\n ('victim', 0): 268,\n ('could', 0): 2372,\n ('pay', 0): 279,\n ('hero', 0): 492,\n ('must', 0): 1304,\n ('next', 0): 633,\n ('help', 0): 1167,\n ('ladi', 0): 411,\n ('eva', 0): 45,\n ('blackwel', 0): 4,\n ('sum', 0): 86,\n ('beyond', 0): 300,\n ('mean', 0): 930,\n ('upcom', 0): 17,\n ('marriag', 0): 192,\n ('call', 0): 923,\n ('scene', 0): 3905,\n ('burglar', 0): 6,\n ('hous', 0): 750,\n ('intens', 0): 305,\n ('although', 0): 1085,\n ('essenti', 0): 186,\n ('happi', 0): 531,\n ('end', 0): 3558,\n ('tone', 0): 227,\n ('regretfuloutstand', 0): 1,\n ('edward', 0): 111,\n ('hardwick', 0): 9,\n ('usual', 0): 766,\n ('robert', 0): 563,\n ('hardi', 0): 58,\n ('notori', 0): 73,\n ('villain', 0): 340,\n ('audienc', 0): 1006,\n ('probabl', 0): 1085,\n ('recogn', 0): 174,\n ('today', 0): 739,\n ('corneliu', 0): 2,\n ('fudg', 0): 8,\n ('harri', 0): 303,\n ('potter', 0): 17,\n ('serena', 0): 1,\n ('gordon', 0): 85,\n ('norma', 0): 12,\n ('west', 0): 215,\n ('swinstead', 0): 1,\n ('sophi', 0): 24,\n ('thomson', 0): 2,\n ('agatha', 0): 15,\n ('involv', 0): 778,\n ('riot', 0): 49,\n ('give', 0): 2302,\n ('12', 0): 157,\n ('complaint', 0): 118,\n ('wasnt', 0): 659,\n ('enough', 0): 1101,\n ('inspector', 0): 52,\n ('lestrad', 0): 6,\n ('wish', 0): 506,\n ('ad', 0): 290,\n ('descript', 0): 85,\n ('match', 0): 294,\n ('panic', 0): 48,\n ('street', 0): 395,\n ('decent', 0): 258,\n ('thriller', 0): 410,\n ('felt', 0): 492,\n ('bit', 0): 1461,\n ('disappoint', 0): 461,\n ('central', 0): 182,\n ('citi', 0): 624,\n ('attack', 0): 262,\n ('plagu', 0): 52,\n ('fascin', 0): 317,\n ('realli', 0): 4176,\n ('explor', 0): 218,\n ('develop', 0): 579,\n ('made', 0): 2851,\n ('screenplay', 0): 244,\n ('weak', 0): 237,\n ('bring', 0): 814,\n ('whole', 0): 996,\n ('none', 0): 234,\n ('compel', 0): 232,\n ('believablefortun', 0): 1,\n ('compens', 0): 27,\n ('direct', 0): 1409,\n ('elia', 0): 18,\n ('kazan', 0): 29,\n ('keep', 0): 1117,\n ('suspens', 0): 394,\n ('move', 0): 1099,\n ('lightn', 0): 29,\n ('quick', 0): 128,\n ('pace', 0): 474,\n ('standout', 0): 57,\n ('sequenc', 0): 643,\n ('particularli', 0): 445,\n ('chase', 0): 290,\n ('climax', 0): 174,\n ('combin', 0): 270,\n ('sever', 0): 704,\n ('man', 0): 2459,\n ('mostli', 0): 343,\n ('wrongth', 0): 4,\n ('richard', 0): 351,\n ('widmark', 0): 53,\n ('watchabl', 0): 73,\n ('lead', 0): 1115,\n ('underwritten', 0): 7,\n ('paul', 0): 361,\n ('dougla', 0): 136,\n ('spend', 0): 246,\n ('yell', 0): 50,\n ('zero', 0): 60,\n ('mostel', 0): 8,\n ('known', 0): 452,\n ('primarili', 0): 55,\n ('effect', 0): 1349,\n ('slimi', 0): 27,\n ('cinema', 0): 663,\n ('ultim', 0): 309,\n ('toadi', 0): 4,\n ('palanc', 0): 18,\n ('unsurprisingli', 0): 4,\n ('chill', 0): 175,\n ('710', 0): 102,\n ('what', 0): 268,\n ('wrong', 0): 537,\n ('separ', 0): 141,\n ('lie', 0): 287,\n ('accus', 0): 83,\n ('elsewher', 0): 43,\n ('excit', 0): 373,\n ('cun', 0): 19,\n ('subtl', 0): 267,\n ('poetic', 0): 67,\n ('cours', 0): 1109,\n ('there', 0): 897,\n ('phil', 0): 52,\n ('collin', 0): 30,\n ('jame', 0): 486,\n ('belushi', 0): 19,\n ('allud', 0): 18,\n ('real', 0): 1984,\n ('point', 0): 1341,\n ('ethic', 0): 29,\n ('dilemma', 0): 29,\n ('tell', 0): 1241,\n ('differ', 0): 1430,\n ('level', 0): 419,\n ('probe', 0): 18,\n ('ok', 0): 194,\n ('inyourfac', 0): 12,\n ('hilari', 0): 580,\n ('pleas', 0): 391,\n ('british', 0): 385,\n ('chanc', 0): 535,\n ('peopl', 0): 3489,\n ('think', 0): 3338,\n ('import', 0): 538,\n ('thing', 0): 2710,\n ('far', 0): 990,\n ('go', 0): 3260,\n ('protect', 0): 151,\n ('life', 0): 2957,\n ('rotten', 0): 17,\n ('unexpect', 0): 150,\n ('disast', 0): 77,\n ('mayb', 0): 716,\n ('ignor', 0): 213,\n ('wear', 0): 209,\n ('lot', 0): 2002,\n ('american', 0): 1085,\n ('abund', 0): 23,\n ('firearm', 0): 5,\n ('part', 0): 2037,\n ('everyday', 0): 92,\n ('europ', 0): 114,\n ('sloganlik', 0): 1,\n ('aim', 0): 86,\n ('massiv', 0): 72,\n ('public', 0): 266,\n ('hooker', 0): 21,\n ('someon', 0): 661,\n ('might', 0): 1035,\n ('big', 0): 1370,\n ('shot', 0): 1006,\n ('around', 0): 1232,\n ('corner', 0): 79,\n ('temptat', 0): 20,\n ('creep', 0): 49,\n ('spoiler', 0): 238,\n ('stumbl', 0): 86,\n ('take', 0): 2797,\n ('guy', 0): 1412,\n ('who', 0): 292,\n ('bad', 0): 1448,\n ('human', 0): 1092,\n ('paid', 0): 75,\n ('extra', 0): 205,\n ('drum', 0): 43,\n ('bar', 0): 158,\n ('band', 0): 277,\n ('walk', 0): 355,\n ('green', 0): 190,\n ('66', 0): 10,\n ('corvett', 0): 1,\n ('motel', 0): 16,\n ('parti', 0): 274,\n ('wonder', 0): 1822,\n ('crew', 0): 275,\n ('rate', 0): 693,\n ('earth', 0): 294,\n ('lunch', 0): 22,\n ('coburn', 0): 26,\n ('mother', 0): 785,\n ('day', 0): 1650,\n ('ive', 0): 1182,\n ('forget', 0): 352,\n ('father', 0): 949,\n ('spent', 0): 137,\n ('slim', 0): 20,\n ('picken', 0): 1,\n ('swap', 0): 19,\n ('hors', 0): 190,\n ('levi', 0): 12,\n ('gardner', 0): 14,\n ('laven', 0): 1,\n ('four', 0): 353,\n ('teenag', 0): 357,\n ('girl', 0): 1352,\n ('suburb', 0): 28,\n ('lo', 0): 93,\n ('angel', 0): 193,\n ('get', 0): 5027,\n ('kind', 0): 1072,\n ('troubl', 0): 322,\n ('drug', 0): 374,\n ('cop', 0): 320,\n ('mixedup', 0): 6,\n ('parent', 0): 426,\n ('older', 0): 266,\n ('jodi', 0): 26,\n ('foster', 0): 53,\n ('sort', 0): 540,\n ('hen', 0): 3,\n ('pack', 0): 151,\n ('everyon', 0): 951,\n ('togeth', 0): 969,\n ('unit', 0): 172,\n ('she', 0): 552,\n ('heartbreak', 0): 75,\n ('cant', 0): 1198,\n ('slowli', 0): 186,\n ('grow', 0): 308,\n ('away', 0): 1012,\n ('precis', 0): 74,\n ('plot', 0): 1947,\n ('underscor', 0): 18,\n ('throughout', 0): 546,\n ('tamper', 0): 5,\n ('need', 0): 1221,\n ('scott', 0): 242,\n ('baio', 0): 8,\n ('outrac', 0): 1,\n ('car', 0): 537,\n ('full', 0): 703,\n ('thug', 0): 39,\n ('skateboard', 0): 39,\n ('longer', 0): 181,\n ('sequencealso', 0): 1,\n ('baiowher', 0): 1,\n ('strang', 0): 422,\n ('soliloquy', 0): 7,\n ('pain', 0): 281,\n ('fact', 0): 1311,\n ('downright', 0): 50,\n ('loopi', 0): 6,\n ('didnt', 0): 1303,\n ('care', 0): 737,\n ('edit', 0): 357,\n ('late', 0): 555,\n ('segu', 0): 10,\n ('clumsili', 0): 5,\n ('death', 0): 881,\n ('wed', 0): 113,\n ('nitpick', 0): 16,\n ('basic', 0): 415,\n ('sensit', 0): 156,\n ('loss', 0): 147,\n ('tight', 0): 98,\n ('bond', 0): 295,\n ('face', 0): 844,\n ('speak', 0): 354,\n ('volum', 0): 34,\n ('viewer', 0): 851,\n ('choke', 0): 20,\n ('earn', 0): 91,\n ('pander', 0): 8,\n ('tear', 0): 250,\n ('ask', 0): 517,\n ('sympathi', 0): 73,\n ('us', 0): 1804,\n ('exampl', 0): 525,\n ('friendship', 0): 223,\n ('hope', 0): 936,\n ('understand', 0): 912,\n ('mind', 0): 844,\n ('loan', 0): 29,\n ('air', 0): 347,\n ('authent', 0): 101,\n ('period', 0): 362,\n ('piec', 0): 676,\n ('perspect', 0): 120,\n ('technolog', 0): 106,\n ('martian', 0): 25,\n ('particular', 0): 328,\n ('thunderchild', 0): 1,\n ('regard', 0): 238,\n ('book', 0): 944,\n ('prais', 0): 120,\n ('faith', 0): 244,\n ('wellss', 0): 3,\n ('actor', 0): 2440,\n ('likabl', 0): 156,\n ('charm', 0): 452,\n ('hear', 0): 383,\n ('jami', 0): 83,\n ('hall', 0): 133,\n ('truli', 0): 813,\n ('score', 0): 596,\n ('writer', 0): 424,\n ('brother', 0): 706,\n ('london', 0): 199,\n ('marina', 0): 8,\n ('zudina', 0): 4,\n ('portray', 0): 953,\n ('mute', 0): 49,\n ('add', 0): 471,\n ('hapless', 0): 21,\n ('increas', 0): 65,\n ('alec', 0): 26,\n ('guinesss', 0): 1,\n ('appear', 0): 925,\n ('nice', 0): 1000,\n ('im', 0): 1451,\n ('sure', 0): 1106,\n ('evan', 0): 40,\n ('andi', 0): 140,\n ('clark', 0): 102,\n ('humor', 0): 682,\n ('suppos', 0): 367,\n ('bumbl', 0): 54,\n ('idiot', 0): 79,\n ('cinematographi', 0): 438,\n ('excel', 0): 1459,\n ('qualiti', 0): 517,\n ('product', 0): 849,\n ('bathtub', 0): 13,\n ('water', 0): 332,\n ('droplet', 0): 1,\n ('slow', 0): 379,\n ('motion', 0): 151,\n ('knife', 0): 42,\n ('come', 0): 2647,\n ('switch', 0): 73,\n ('cut', 0): 442,\n ('rare', 0): 409,\n ('meat', 0): 50,\n ('done', 0): 1209,\n ('overal', 0): 493,\n ('serious', 0): 276,\n ('imagin', 0): 560,\n ('spread', 0): 55,\n ('without', 0): 1353,\n ('huge', 0): 368,\n ('budget', 0): 468,\n ('daniel', 0): 166,\n ('daylewi', 0): 28,\n ('ray', 0): 226,\n ('mcanal', 0): 13,\n ('brenda', 0): 33,\n ('fricker', 0): 16,\n ('hugh', 0): 72,\n ('oconor', 0): 6,\n ('fiona', 0): 8,\n ('shaw', 0): 53,\n ('doubt', 0): 349,\n ('deserv', 0): 508,\n ('award', 0): 338,\n ('entir', 0): 675,\n ('justifi', 0): 72,\n ('christi', 0): 90,\n ('clichã©', 0): 132,\n ('true', 0): 1082,\n ('inhabit', 0): 83,\n ('tour', 0): 91,\n ('de', 0): 356,\n ('forc', 0): 609,\n ('transform', 0): 136,\n ('aweinduc', 0): 1,\n ('mark', 0): 356,\n ('academi', 0): 169,\n ('intellig', 0): 357,\n ('alongsid', 0): 37,\n ('honour', 0): 17,\n ('restrain', 0): 49,\n ('heartwrench', 0): 14,\n ('magnific', 0): 194,\n ('swann', 0): 1,\n ('that', 0): 1152,\n ('check', 0): 370,\n ('sublim', 0): 51,\n ('miranda', 0): 25,\n ('richardson', 0): 38,\n ('epic', 0): 171,\n ('fantasi', 0): 251,\n ('heart', 0): 740,\n ('lost', 0): 558,\n ('sweet', 0): 308,\n ('mann', 0): 54,\n ('chines', 0): 157,\n ('theatr', 0): 147,\n ('hollywood', 0): 797,\n ('romant', 0): 420,\n ('touch', 0): 686,\n ('messageth', 0): 5,\n ('artwork', 0): 27,\n ('visual', 0): 544,\n ('strike', 0): 171,\n ('director', 0): 1643,\n ('amaz', 0): 867,\n ('artist', 0): 408,\n ('appar', 0): 305,\n ('frame', 0): 173,\n ('strong', 0): 569,\n ('joss', 0): 10,\n ('ackland', 0): 10,\n ('fairytal', 0): 25,\n ('perfect', 0): 1053,\n ('king', 0): 395,\n ('sarah', 0): 76,\n ('terrif', 0): 286,\n ('christin', 0): 33,\n ('taylor', 0): 97,\n ('tom', 0): 323,\n ('schultz', 0): 19,\n ('pair', 0): 151,\n ('ridicul', 0): 184,\n ('tini', 0): 100,\n ('indi', 0): 83,\n ('blow', 0): 156,\n ('may', 0): 1520,\n ('slick', 0): 52,\n ('inund', 0): 6,\n ('curl', 0): 13,\n ('sofa', 0): 9,\n ('raini', 0): 23,\n ('saturday', 0): 76,\n ('microwav', 0): 4,\n ('popcorn', 0): 52,\n ('advic', 0): 72,\n ('edgar', 0): 48,\n ('allen', 0): 115,\n ('poe', 0): 20,\n ('fall', 0): 711,\n ('usher', 0): 9,\n ('danc', 0): 671,\n ('poem', 0): 41,\n ('actual', 0): 1682,\n ('begin', 0): 1182,\n ('old', 0): 1521,\n ('blackandwhit', 0): 23,\n ('meet', 0): 763,\n ('decrepit', 0): 5,\n ('cat', 0): 250,\n ('canari', 0): 5,\n ('night', 0): 897,\n ('terror', 0): 129,\n ('bori', 0): 38,\n ('karloff', 0): 31,\n ('dement', 0): 28,\n ('inventor', 0): 11,\n ('lifes', 0): 3,\n ('doll', 0): 90,\n ('guest', 0): 108,\n ('die', 0): 682,\n ('earli', 0): 687,\n ('resid', 0): 95,\n ('subject', 0): 423,\n ('number', 0): 592,\n ('terrifi', 0): 100,\n ('experi', 0): 742,\n ('wont', 0): 530,\n ('detail', 0): 435,\n ('mustse', 0): 82,\n ('mysterieswatch', 0): 1,\n ('plenti', 0): 269,\n ('soda', 0): 10,\n ('darken', 0): 14,\n ('roomdan', 0): 1,\n ('basing', 0): 20,\n ('810', 0): 110,\n ('start', 0): 1390,\n ('say', 0): 2588,\n ('your', 0): 644,\n ('humour', 0): 202,\n ('lowbrow', 0): 8,\n ('heavyhit', 0): 1,\n ('he', 0): 1021,\n ('tickl', 0): 13,\n ('bone', 0): 65,\n ('sledgehamm', 0): 3,\n ('drawn', 0): 156,\n ('bead', 0): 13,\n ('side', 0): 634,\n ('head', 0): 649,\n ('fear', 0): 335,\n ('fairli', 0): 211,\n ('gentl', 0): 77,\n ('educ', 0): 129,\n ('oh', 0): 266,\n ('heavi', 0): 154,\n ('swear', 0): 50,\n ('mike', 0): 116,\n ('judg', 0): 218,\n ('fred', 0): 113,\n ('rogerswa', 0): 1,\n ('intelliocraci', 0): 1,\n ('f', 0): 55,\n ('gem', 0): 245,\n ('essenc', 0): 73,\n ('abil', 0): 239,\n ('laugh', 0): 1027,\n ('beavi', 0): 5,\n ('butthead', 0): 5,\n ('popular', 0): 303,\n ('boy', 0): 900,\n ('incessantli', 0): 6,\n ('poke', 0): 45,\n ('funwith', 0): 1,\n ('super', 0): 132,\n ('smart', 0): 191,\n ('averag', 0): 233,\n ('joe', 0): 273,\n ('messag', 0): 406,\n ('god', 0): 340,\n ('sake', 0): 50,\n ('studi', 0): 213,\n ('botani', 0): 1,\n ('disjoint', 0): 18,\n ('narrat', 0): 173,\n ('irrit', 0): 75,\n ('meant', 0): 206,\n ('understandi', 0): 1,\n ('question', 0): 555,\n ('luke', 0): 75,\n ('100', 0): 174,\n ('iq', 0): 15,\n ('sometim', 0): 613,\n ('abl', 0): 592,\n ('104', 0): 5,\n ('slightli', 0): 226,\n ('timeskudo', 0): 1,\n ('dax', 0): 1,\n ('shepard', 0): 11,\n ('rememb', 0): 896,\n ('zathura', 0): 1,\n ('psychicit', 0): 1,\n ('took', 0): 438,\n ('warm', 0): 174,\n ('maya', 0): 18,\n ('rudolph', 0): 8,\n ('gave', 0): 449,\n ('leeway', 0): 2,\n ('straight', 0): 236,\n ('planet', 0): 194,\n ('solid', 0): 269,\n ('contributionterri', 0): 1,\n ('psychot', 0): 43,\n ('aggress', 0): 41,\n ('firstrat', 0): 39,\n ('presid', 0): 139,\n ('lessanoth', 0): 2,\n ('bonu', 0): 49,\n ('practic', 0): 182,\n ('empti', 0): 100,\n ('count', 0): 161,\n ('girlfriend', 0): 231,\n ('liter', 0): 210,\n ('six', 0): 132,\n ('couldv', 0): 53,\n ('barbecu', 0): 5,\n ('pit', 0): 44,\n ('mariachi', 0): 2,\n ('annoy', 0): 214,\n ('talk', 0): 730,\n ('norm', 0): 29,\n ('talkingtothetv', 0): 1,\n ('ageal', 0): 2,\n ('premis', 0): 180,\n ('compet', 0): 97,\n ('deliveri', 0): 74,\n ('given', 0): 658,\n ('intend', 0): 165,\n ('goal', 0): 64,\n ('sprinkl', 0): 12,\n ('throughoutwhat', 0): 1,\n ('scari', 0): 261,\n ('saw', 0): 1375,\n ('idioci', 0): 9,\n ('immedi', 0): 241,\n ('dose', 0): 40,\n ('theatretheyr', 0): 1,\n ('pod', 0): 12,\n ('last', 0): 1290,\n ('hard', 0): 902,\n ('men', 0): 832,\n ('typic', 0): 420,\n ('western', 0): 417,\n ('inspir', 0): 377,\n ('sam', 0): 189,\n ('peckinpah', 0): 8,\n ('andrew', 0): 143,\n ('mclaglan', 0): 2,\n ('john', 0): 960,\n ('ford', 0): 131,\n ('pupil', 0): 10,\n ('obvious', 0): 334,\n ('shown', 0): 458,\n ('imo', 0): 20,\n ('certain', 0): 357,\n ('travel', 0): 264,\n ('civil', 0): 165,\n ('wilder', 0): 58,\n ('third', 0): 262,\n ('illog', 0): 15,\n ('flaw', 0): 321,\n ('complain', 0): 134,\n ('charlton', 0): 22,\n ('heston', 0): 52,\n ('exlawman', 0): 1,\n ('name', 0): 975,\n ('burgad', 0): 12,\n ('fantast', 0): 498,\n ('physic', 0): 242,\n ('shape', 0): 109,\n ('problem', 0): 748,\n ('climb', 0): 51,\n ('rock', 0): 442,\n ('motiv', 0): 129,\n ('barbara', 0): 139,\n ('hershey', 0): 13,\n ('sheriff', 0): 83,\n ('unhappi', 0): 38,\n ('best', 0): 3336,\n ('scriptwrit', 0): 20,\n ('wayn', 0): 128,\n ('michael', 0): 576,\n ('park', 0): 234,\n ('underus', 0): 14,\n ('hand', 0): 710,\n ('outlaw', 0): 31,\n ('zach', 0): 7,\n ('provo', 0): 15,\n ('maniac', 0): 42,\n ('hate', 0): 441,\n ('clever', 0): 269,\n ('movielandscap', 0): 1,\n ('shootout', 0): 44,\n ('shoot', 0): 313,\n ('bloodi', 0): 92,\n ('violenc', 0): 434,\n ('realist', 0): 470,\n ('gang', 0): 189,\n ('gori', 0): 78,\n ('violent', 0): 245,\n ('action', 0): 1387,\n ('middl', 0): 274,\n ('appreci', 0): 440,\n ('bank', 0): 108,\n ('robberi', 0): 43,\n ('flick', 0): 468,\n ('moviedrama', 0): 1,\n ...}"
     },
     "execution_count": 21,
     "metadata": {},
     "output_type": "execute_result"
    }
   ],
   "source": [
    "## Run this cell to get an idea about the corpus of words and their occurrence along with labels. \n",
    "## In this, we are computing the frequency of occurrence of word given that a review is 'positive'.\n",
    "## Similarly, we also compute the frequency of occurrence of word given that a review is 'negative'.\n",
    "freqs"
   ]
  },
  {
   "cell_type": "markdown",
   "id": "759c24bc",
   "metadata": {
    "id": "759c24bc"
   },
   "source": [
    "## Q4. Training the Naive Bayes Model: (20 points)\n",
    "\n",
    "Now we are in the training phase of the Naive Bayes algorithm. In this cell, take a look at the ways to calculate the log likelihood and log prior values as these are important for testing in the next few cells. \n",
    "\n",
    "Also calculate the frequency of occurrence of words where the output is negative. In the same way, calculate the word frequency count using the above functions in order to compute the log likelihood.\n",
    "\n",
    "Return the logprior and loglikelihood output by the model from this function. "
   ]
  },
  {
   "cell_type": "code",
   "execution_count": 22,
   "id": "a7f280e3",
   "metadata": {
    "id": "a7f280e3"
   },
   "outputs": [],
   "source": [
    "def train_naive_bayes(freqs, train_x, train_y):\n",
    "    '''\n",
    "    Input:\n",
    "        freqs: dictionary from (word, label) to how often the word appears\n",
    "        train_x: a list of reviews\n",
    "        train_y: a list of labels corresponding to the reviews (0,1)\n",
    "    Output:\n",
    "        logprior: the log prior. (equation 3 above)\n",
    "        loglikelihood: the log likelihood of you Naive bayes equation. (equation 6 above)\n",
    "    '''\n",
    "\n",
    "    loglikelihood = {}\n",
    "    logprior = 0\n",
    "\n",
    "    # calculate V, the number of unique words in the vocabulary\n",
    "    vocab = set([word for word, label in freqs.keys()])\n",
    "    V = len(vocab)\n",
    "\n",
    "    # calculate num_pos and num_neg - the total number of positive and negative words for all documents\n",
    "    num_pos = num_neg = 0\n",
    "    for pair in freqs.keys():\n",
    "        # if the label is positive (equals zero)\n",
    "        if pair[1] == 0:\n",
    "            # Increment the number of positive words by the count for this (word, label) pair\n",
    "            num_pos += freqs[pair]\n",
    "\n",
    "        # else, the label is negative\n",
    "        else:\n",
    "            # Increment the number of negative words by the count for this (word,label) pair\n",
    "            num_neg += freqs[pair]\n",
    "\n",
    "    # Calculate num_doc, the number of documents\n",
    "    num_doc = len(train_x)\n",
    "\n",
    "    # Calculate D_pos, the number of positive documents\n",
    "    pos_num_docs = (train_y == 1).sum() + 1\n",
    "\n",
    "    # Calculate D_neg, the number of negative documents \n",
    "    neg_num_docs = (train_y == 0).sum() + 1\n",
    "\n",
    "    # Calculate logprior\n",
    "    logp = { 1: np.log(pos_num_docs/num_doc), 0: np.log(neg_num_docs/num_doc) }\n",
    "    # scalar log prior since binary class\n",
    "    logprior = np.log(pos_num_docs/neg_num_docs)\n",
    "\n",
    "    # For each word in the vocabulary...\n",
    "    for word in vocab:\n",
    "        # get the positive and negative frequency of the word\n",
    "        freq_pos = (freqs[(word, 1)] if (word, 1) in freqs else 0) + 1\n",
    "        freq_neg = (freqs[(word, 0)] if (word, 0) in freqs else 0) + 1\n",
    "        freq_total = freq_pos + freq_neg\n",
    "\n",
    "        # calculate the probability that each word is positive, and negative\n",
    "        p_w_pos = freq_pos/freq_total\n",
    "        p_w_neg = freq_neg/freq_total\n",
    "\n",
    "        # calculate the log likelihood of the word\n",
    "        loglikelihood[word] = [np.log(p_w_pos), np.log(p_w_neg)]\n",
    "\n",
    "    return logprior, loglikelihood"
   ]
  },
  {
   "cell_type": "code",
   "execution_count": 23,
   "id": "1561d892",
   "metadata": {
    "id": "1561d892"
   },
   "outputs": [
    {
     "name": "stdout",
     "output_type": "stream",
     "text": [
      "0.0\n",
      "88571\n"
     ]
    }
   ],
   "source": [
    "# You do not have to input any code in this cell, but it is relevant to grading, so please do not change anything\n",
    "logprior, loglikelihood = train_naive_bayes(freqs, X_train, y_train)\n",
    "print(logprior)\n",
    "print(len(loglikelihood))"
   ]
  },
  {
   "cell_type": "markdown",
   "id": "19d9c882",
   "metadata": {
    "id": "19d9c882"
   },
   "source": [
    "### Expected Output \n",
    "\n",
    "0.0 <br>\n",
    "91425"
   ]
  },
  {
   "cell_type": "markdown",
   "id": "78b51303",
   "metadata": {
    "id": "78b51303"
   },
   "source": [
    "## Q5. Implementing Naive Bayes Predict Function: (10 points)\n",
    "\n",
    "It is now time to make our prediction as to whether a given review is negative or positive respectively. \n",
    "\n",
    "After adding the log likelihood values, ensure that the output is 1 (negative) if the sum of the log likelihood value is greater than 0 and 0 (positive) if the sum of the log likelihood is less than or equal to 0. "
   ]
  },
  {
   "cell_type": "code",
   "execution_count": 79,
   "id": "b692c2f9",
   "metadata": {
    "id": "b692c2f9"
   },
   "outputs": [],
   "source": [
    "# TASK 4 CELL\n",
    "\n",
    "def naive_bayes_predict(review, logprior, loglikelihood):\n",
    "    '''\n",
    "    Params:\n",
    "        review: a string\n",
    "        logprior: a number\n",
    "        loglikelihood: a dictionary of words mapping to numbers\n",
    "    Return:\n",
    "        total_prob: the sum of all the loglikelihoods of each word in the review (if found in the dictionary) + logprior (a number)\n",
    "\n",
    "    '''\n",
    "    \n",
    "    # process the review to get a list of words\n",
    "    word_l = clean_review(review).split()\n",
    "\n",
    "    # probability for each word\n",
    "    # word_p = {word: 0 for word in word_l}\n",
    "\n",
    "    # initialize probability to zero\n",
    "    total_prob = 0\n",
    "\n",
    "    # add the logprior\n",
    "    total_prob = logprior\n",
    "    prob_pos = logprior\n",
    "    prob_neg = logprior\n",
    "\n",
    "    for word in word_l:\n",
    "\n",
    "        # check if the word exists in the loglikelihood dictionary\n",
    "        if word in loglikelihood:\n",
    "            # add the log likelihood of that word to the probability\n",
    "            # total_prob += None\n",
    "            prob_pos += loglikelihood[word][0]\n",
    "            prob_neg += loglikelihood[word][1]\n",
    "\n",
    "            # save the log likelihood\n",
    "            # word_p[word] = loglikelihood[word]\n",
    "\n",
    "\n",
    "    # print(word_p)\n",
    "    return 0 if prob_pos < prob_neg else 1"
   ]
  },
  {
   "cell_type": "code",
   "execution_count": 80,
   "id": "4b170333",
   "metadata": {
    "id": "4b170333",
    "outputId": "0cf6bc90-90e8-4dee-bf95-7eaf39dce147",
    "colab": {
     "base_uri": "https://localhost:8080/"
    }
   },
   "outputs": [
    {
     "name": "stdout",
     "output_type": "stream",
     "text": [
      "{'thought': [-0.6633768962032008, -0.7238310004985473], 'seri': [-0.9997464121439315, -0.45882275722066124], 'go': [-0.6126183516381989, -0.7807333693145541], 'anoth': [-0.6697122696280138, -0.7171444927209274], 'fun': [-0.9434101945919579, -0.493146142927681], 'action': [-0.7272284798191476, -0.660189236016433], 'dynam': [-1.0216512475319814, -0.4462871026284195], 'plot': [-0.4594692955607762, -0.9986368973290418], 'great': [-1.201563611166578, -0.3577092347461875], 'perform': [-1.0678829732783086, -0.4211912859801008], 'wrong': [-0.45845066350769914, -1.00038584085834], 'like': [-0.611026208409339, -0.7826202698377254], 'jami': [-1.1147416705979933, -0.3974969384589874], 'denton': [-0.3364722366212129, -1.252762968495368], 'show': [-0.8471664284359071, -0.5597143732364341], 'hardli': [-0.4479295886259229, -1.0187379169936241], 'worth': [-0.7417773575280121, -0.6467726300500451], 'watch': [-0.6161072746648365, -0.7766213778051594], 'unless': [-0.251012450323002, -1.5051350383344098], 'enjoy': [-1.0400919921935172, -0.43606169881734835], 'peopl': [-0.670316718180089, -0.716511075167495], 'brutal': [-0.9240527372096443, -0.505684224265572], 'agent': [-0.6752209642917932, -0.7114006208692957], 'supposedli': [-0.3677247801253174, -1.1786549963416462], 'warrant': [-0.519300250756963, -0.903711949667295], 'theme': [-0.9869875771294538, -0.4663267569298569], 'nation': [-0.7884573603642702, -0.6061358035703156], 'secur': [-0.5414207443441934, -0.8720846393696594], 'propaganda': [-0.4848018503446855, -0.9566420273977224], 'current': [-0.9716125979068022, -0.4755746742951909], 'govern': [-0.8472978603872037, -0.5596157879354228], 'spew': [-0.3053816495511819, -1.3350010667323402], 'jingoism': [-0.6931471805599453, -0.6931471805599453], 'though': [-0.7375463046257006, -0.6506358205383407], 'talk': [-0.6167927232093013, -0.7758171820573025], 'way': [-0.7281205853235108, -0.6593556954746621], 'everi': [-0.7028153190330003, -0.6835716206403734], 'day': [-0.8108461013153245, -0.5878539619175217], 'coupl': [-0.6407527428153502, -0.748439318220724], 'episod': [-0.9560687033310741, -0.485159686970526], 'bore': [-0.23392138167672274, -1.5674519582035757], 'hell': [-0.46020074668668776, -0.9973840102951939], 'start': [-0.5806557224958909, -0.8199160028921445], 'rerun': [-0.6814511407967541, -0.7049816382069481], 'hous': [-0.6578345581607449, -0.7297525746665589], 'invad': [-1.085189268335969, -0.4122447950935431], 'bbcamerica': [-0.6931471805599453, -0.6931471805599453], 'instead': [-0.4030511057288831, -1.1034578463016327], 'rather': [-0.6342125673187409, -0.7557738050470533], 'csi': [-0.46262352194811296, -0.9932517730102834], 'without': [-0.726089512152486, -0.6612555263946533], 'trace': [-0.5306282510621704, -0.8873031950009028], 'doubt': [-0.7245633767933243, -0.6626879730752369]}\n",
      "The expected output is 1\n"
     ]
    }
   ],
   "source": [
    "# You do not have to input any code in this cell, but it is relevant to grading, so please do not change anything\n",
    "\n",
    "# Experiment with your own review.\n",
    "my_review = \"I thought this series was going to be another fun, action series with some dynamic plots and great performances. I was wrong. While I like Jamie Denton, this show is hardly worth watching at all, unless you enjoy watching some people brutalized and the actions of the agents supposedly warranted under the theme of national security. The show is great propaganda for the current government, and spews out jingoism as though we talk that way every day. After a couple of episodes, it was boring the hell out of me, and I started watching reruns of House Invaders on BBCAmerica instead. Rather watch CSI and Without a Trace, without a doubt.\"\n",
    "p = naive_bayes_predict(my_review, logprior, loglikelihood)\n",
    "print('The expected output is', p)"
   ]
  },
  {
   "cell_type": "markdown",
   "id": "6242708f",
   "metadata": {
    "id": "6242708f"
   },
   "source": [
    "### Expected Output :\n",
    "The expected output is 1"
   ]
  },
  {
   "cell_type": "markdown",
   "id": "7c4eeb71",
   "metadata": {
    "id": "7c4eeb71"
   },
   "source": [
    "## Q6. Implementing Naive Bayes Test function: (10 points)\n",
    "\n",
    "In this function, implement the previous functions such as naive_bayes_predict to get the predictions for the test set. \n",
    "\n",
    "In addition to this, the function should return the total number of reviews that it correctly classified as 'positive' or 'negative'. "
   ]
  },
  {
   "cell_type": "code",
   "execution_count": 26,
   "id": "66a511e7",
   "metadata": {
    "id": "66a511e7"
   },
   "outputs": [],
   "source": [
    "# UNQ_C6 (UNIQUE CELL IDENTIFIER, DO NOT EDIT)\n",
    "def test_naive_bayes(test_x, test_y, logprior, loglikelihood):\n",
    "    \"\"\"\n",
    "    Input:\n",
    "        test_x: A list of reviews\n",
    "        test_y: the corresponding labels for the list of reviews\n",
    "        logprior: the logprior\n",
    "        loglikelihood: a dictionary with the loglikelihoods for each word\n",
    "    Output:\n",
    "        accuracy: (# of reviews classified correctly)/(total # of reviews)\n",
    "    \"\"\"\n",
    "    accuracy = 0  \n",
    "\n",
    "    \n",
    "    y_hats = []\n",
    "    for review in test_x:\n",
    "        # if the prediction is > 0\n",
    "        if naive_bayes_predict(review, logprior, loglikelihood) > 0:\n",
    "            # the predicted class is 1\n",
    "            y_hat_i = 1\n",
    "        else:\n",
    "            # otherwise the predicted class is 0\n",
    "            y_hat_i = 0\n",
    "\n",
    "        # append the predicted class to the list y_hats\n",
    "        y_hats.append(1)\n",
    "\n",
    "    # error is the average of the absolute values of the differences between y_hats and test_y\n",
    "    error = np.mean(np.abs(np.array(y_hats) - np.array(test_y)))\n",
    "\n",
    "    correct = 0\n",
    "    for i in range(len(test_y)):\n",
    "        if test_y[i] == y_hats[i]:\n",
    "            correct += 1\n",
    "\n",
    "    accuracy = correct/len(test_y)\n",
    "\n",
    "    return accuracy"
   ]
  },
  {
   "cell_type": "code",
   "execution_count": 27,
   "id": "8a9c5d9d",
   "metadata": {
    "id": "8a9c5d9d"
   },
   "outputs": [
    {
     "name": "stdout",
     "output_type": "stream",
     "text": [
      "If you like original gut wrenching laughter you will like this movie. If you are young or old then y -> 0.00\n",
      "What a waste of talent. A very poor, semi-coherent, script cripples this film. Rather unimaginative  -> 1.00\n",
      "I have seen this film at least 100 times and I am still excited by it, the acting is perfect and the -> 0.00\n",
      "Cheap, amateurish, unimaginative, exploitative... but don't think it'll have redeeming amusement val -> 1.00\n"
     ]
    }
   ],
   "source": [
    "# For grading purpose only\n",
    "# You do not have to input any code in this cell, but it is relevant to grading, so please do not change anything\n",
    "\n",
    "# Run this cell to test your function\n",
    "\n",
    "for review in [\"If you like original gut wrenching laughter you will like this movie. If you are young or old then you will love this movie, hell even my mom liked it.<br /><br />Great Camp!!!\",\n",
    "                \"What a waste of talent. A very poor, semi-coherent, script cripples this film. Rather unimaginative direction, too. Some VERY faint echoes of Fargo here, but it just doesn't come off.\",\n",
    "                \"I have seen this film at least 100 times and I am still excited by it, the acting is perfect and the romance between Joe and Jean keeps me on the edge of my seat, plus I still think Bryan Brown is the tops. Brilliant Film.\",\n",
    "                \"Cheap, amateurish, unimaginative, exploitative... but don't think it'll have redeeming amusement value. About as unentertaining, uninstructive and just plain dull as a film can be.\"]:\n",
    "    p = naive_bayes_predict(review, logprior, loglikelihood)\n",
    "    print(f'{review[:100]} -> {p:.2f}')\n",
    "    "
   ]
  },
  {
   "cell_type": "markdown",
   "id": "43e2ef98",
   "metadata": {
    "id": "43e2ef98"
   },
   "source": [
    "### Expected Output :\n",
    "\n",
    "If you like original gut wrenching laughter you will like this movie. If you are young or old then y -> 0.00 <br>\n",
    "What a waste of talent. A very poor, semi-coherent, script cripples this film. Rather unimaginative  -> 1.00<br>\n",
    "I have seen this film at least 100 times and I am still excited by it, the acting is perfect and the -> 0.00 <br>\n",
    "Cheap, amateurish, unimaginative, exploitative... but don't think it'll have redeeming amusement val -> 1.00\n",
    "\n"
   ]
  },
  {
   "cell_type": "code",
   "execution_count": 34,
   "id": "216fa97a",
   "metadata": {
    "id": "216fa97a",
    "colab": {
     "base_uri": "https://localhost:8080/"
    },
    "outputId": "9d1f21c7-b324-43c2-e841-269c0306cbb4"
   },
   "outputs": [
    {
     "data": {
      "text/plain": "1"
     },
     "execution_count": 34,
     "metadata": {},
     "output_type": "execute_result"
    }
   ],
   "source": [
    "# Feel free to check the sentiment of your own review below\n",
    "my_review = 'The moview was very boring, I wanted to leave in the middle'\n",
    "naive_bayes_predict(my_review, logprior, loglikelihood)"
   ]
  },
  {
   "cell_type": "markdown",
   "id": "8a45e4f0",
   "metadata": {
    "id": "8a45e4f0"
   },
   "source": [
    "### Expected Output :\n",
    "1"
   ]
  },
  {
   "cell_type": "markdown",
   "source": [
    "# Q7. Evaluate the accuracy (10 Points)\n",
    "1. Split your data into training and test sets using random selection. Set the seed as parameter of the function so that user can select a different training and test set by changin seed.\n",
    "\n",
    "2. Calculate model paramters with training set.\n",
    "\n",
    "3. Print confusion matrix for training and test set.\n",
    "\n",
    "4. Examine False Positive and False Negative cases and provide reasoning why they get misclassified."
   ],
   "metadata": {
    "id": "mAIkM4aCC1H7"
   },
   "id": "mAIkM4aCC1H7"
  },
  {
   "cell_type": "code",
   "execution_count": 78,
   "outputs": [
    {
     "data": {
      "text/plain": "<Figure size 640x480 with 2 Axes>",
      "image/png": "[encoded data removed]"
     },
     "metadata": {},
     "output_type": "display_data"
    },
    {
     "name": "stdout",
     "output_type": "stream",
     "text": [
      "0.6\n"
     ]
    }
   ],
   "source": [
    "'''\n",
    "Input:\n",
    "seed: Random seed\n",
    "\n",
    "Output: accuracy\n",
    "'''\n",
    "def evalAccuracy(seed):\n",
    "    N_samples = 10\n",
    "\n",
    "    X_train_a, X_test_a, y_train_a, y_test_a = train_test_split(df['review'], df['sentiment'], train_size=N_samples, test_size=N_samples, random_state=seed)\n",
    "\n",
    "    # map to numerical data\n",
    "    output_map = {'positive': 0, 'negative': 1}\n",
    "    y_train_a = y_train_a.map(output_map)\n",
    "    y_test_a = y_test_a.map(output_map)\n",
    "\n",
    "    freqs_a = review_counter({}, X_train_a, y_train_a)\n",
    "    logprior, loglikelihood = train_naive_bayes(freqs_a, X_train_a, y_train_a)\n",
    "\n",
    "    y_hat_a = X_test_a.map(lambda x : naive_bayes_predict(x, logprior, loglikelihood))\n",
    "\n",
    "    # list for easy indexing\n",
    "    y_test_a = y_test_a.tolist()\n",
    "    y_hat_a = y_hat_a.tolist()\n",
    "\n",
    "    # print confusion matrix\n",
    "    cm = confusion_matrix(y_test_a, y_hat_a)\n",
    "    disp = ConfusionMatrixDisplay(confusion_matrix=cm, display_labels=[0,1])\n",
    "    disp = disp.plot(cmap=plt.get_cmap(\"Blues\"))\n",
    "    plt.show()\n",
    "\n",
    "    # accuracy\n",
    "    correct = 0\n",
    "    for i in range(len(y_test_a)):\n",
    "        if y_test_a[i] == y_hat_a[i]:\n",
    "            correct += 1\n",
    "\n",
    "    accuracy = correct/len(y_test_a)\n",
    "\n",
    "    return accuracy\n",
    "\n",
    "print(evalAccuracy(10))\n",
    "\n",
    "\n"
   ],
   "metadata": {
    "collapsed": false
   }
  },
  {
   "cell_type": "markdown",
   "source": [
    "# Q8. Modularize your classifier (10 points)\n",
    "1. Convert your code into a python module text_classifier.py\n",
    "\n",
    "2. The user should be able to launch the application on command prompt using python test_classifier.py command. The module will automatically load the model parameters from a local file of your choice and be ready to take the input from user on command prompt. The program will preprocess user input, tokenize and predict the class.\n",
    "\n",
    "3. Your module will take the input from user and output sentiment class in an indefinite loop. The output should print out the probabilities for each input token along with the final classification decision. Program will quit if user enters X.\n"
   ],
   "metadata": {
    "id": "XbzttYVnBo7W"
   },
   "id": "XbzttYVnBo7W"
  },
  {
   "cell_type": "markdown",
   "id": "82e6e4d1",
   "metadata": {
    "id": "82e6e4d1"
   },
   "source": [
    "# Q9. Theory Questions: (10 points)\n",
    "\n",
    "1. Why is Laplace Smoothing or Additive Smoothing required while executing Naive Bayes operations, especially for text classification? Show how not having additive smoothing leads to bad outcomes by using an example of training and the test set. (10 points)\n",
    "\n",
    "\n",
    "2. Why are logarithmic values computed instead of only probability values in the Naive Bayes algorithm? (5 points)"
   ]
  },
  {
   "cell_type": "markdown",
   "source": [
    "### Q9 Answer 1\n",
    "To prevent zero probabilities. This is because Naive Bayes naively multiplies all feature likelihoods together. For each feature a +1 should then be added to prevent this zeroing problem. This problem is apparent when dealing with a word that is in the test set but not in the training set.\n",
    "\n",
    "for example if we have\n",
    "X_train = ['this movie is great', 'this film is terrible']\n",
    "y_train = [0,1]\n",
    "X_test = ['this TV show rocks', 'this episode was not good']\n",
    "y_test = [0,1]\n",
    "\n",
    "We would get 0 probability when doing P()... * P('TV'|positive) * ... . Since P('TV'| Positive) is 0 according to our training data.\n",
    "\n",
    "Without laplace smoothing P('TV' | Positive) would be 0 and Negative as well.\n",
    "\n",
    "With laplace smoothing we would get a situation where it is essentially ignored (same number is applied to negative and positive). And this will ensure the probability will not be 0 for positive and negative.\n",
    "\n",
    "### Q9 Answer 2\n",
    "Logarithmic values are used to prevent probabilities from becoming very small when multiplying very small probabilities. We can leverage how log(a x b) is equal to log(a) + log(b). and also comparing that if a > b then log(a) > log(b) . Therefore we can use logs to have input that is easier to work with mathematically, while computing the likelihoods as we would normally; with argmax.\n"
   ],
   "metadata": {
    "collapsed": false
   }
  }
 ],
 "metadata": {
  "kernelspec": {
   "display_name": "Python 3 (ipykernel)",
   "language": "python",
   "name": "python3"
  },
  "language_info": {
   "codemirror_mode": {
    "name": "ipython",
    "version": 3
   },
   "file_extension": ".py",
   "mimetype": "text/x-python",
   "name": "python",
   "nbconvert_exporter": "python",
   "pygments_lexer": "ipython3",
   "version": "3.9.5"
  },
  "colab": {
   "name": "CS6120_NLP_Assignment_1_Notebook.ipynb",
   "provenance": [],
   "collapsed_sections": [],
   "toc_visible": true
  }
 },
 "nbformat": 4,
 "nbformat_minor": 5
}
